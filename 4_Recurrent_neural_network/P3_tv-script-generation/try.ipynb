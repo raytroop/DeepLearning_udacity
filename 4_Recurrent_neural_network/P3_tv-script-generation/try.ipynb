{
 "cells": [
  {
   "cell_type": "code",
   "execution_count": 1,
   "metadata": {
    "collapsed": true
   },
   "outputs": [],
   "source": [
    "import numpy as np"
   ]
  },
  {
   "cell_type": "code",
   "execution_count": 2,
   "metadata": {},
   "outputs": [
    {
     "data": {
      "text/plain": [
       "array([[[3, 1, 7, 0, 0],\n",
       "        [1, 1, 1, 8, 8],\n",
       "        [1, 0, 0, 7, 6],\n",
       "        [7, 0, 6, 8, 1]],\n",
       "\n",
       "       [[5, 1, 6, 1, 1],\n",
       "        [1, 0, 5, 1, 1],\n",
       "        [2, 3, 0, 3, 8],\n",
       "        [2, 1, 4, 7, 7]],\n",
       "\n",
       "       [[6, 8, 8, 8, 5],\n",
       "        [3, 6, 7, 5, 2],\n",
       "        [6, 3, 3, 7, 7],\n",
       "        [0, 3, 4, 0, 8]]])"
      ]
     },
     "execution_count": 2,
     "metadata": {},
     "output_type": "execute_result"
    }
   ],
   "source": [
    "x1 = np.random.randint(0,9, size=(3,4,5))\n",
    "x1"
   ]
  },
  {
   "cell_type": "code",
   "execution_count": 3,
   "metadata": {},
   "outputs": [
    {
     "data": {
      "text/plain": [
       "(3, 4, 5)"
      ]
     },
     "execution_count": 3,
     "metadata": {},
     "output_type": "execute_result"
    }
   ],
   "source": [
    "x1.shape"
   ]
  },
  {
   "cell_type": "code",
   "execution_count": 7,
   "metadata": {
    "collapsed": true
   },
   "outputs": [],
   "source": [
    "x2 = np.random.randint(0,9, size=(5,6))"
   ]
  },
  {
   "cell_type": "code",
   "execution_count": 8,
   "metadata": {},
   "outputs": [
    {
     "data": {
      "text/plain": [
       "(5, 6)"
      ]
     },
     "execution_count": 8,
     "metadata": {},
     "output_type": "execute_result"
    }
   ],
   "source": [
    "x2.shape"
   ]
  },
  {
   "cell_type": "code",
   "execution_count": 9,
   "metadata": {},
   "outputs": [
    {
     "data": {
      "text/plain": [
       "array([[[ 29,  77,  33,  69,  61,  20],\n",
       "        [ 43,  89,  71,  53,  81,  56],\n",
       "        [ 31,  62,  53,  38,  58,  43],\n",
       "        [ 59, 113,  67, 109, 108,  55]],\n",
       "\n",
       "       [[ 44,  90,  39,  74,  78,  38],\n",
       "        [ 15,  55,  29,  49,  40,  12],\n",
       "        [ 51,  83,  52,  31,  78,  61],\n",
       "        [ 48, 110,  76,  76,  95,  56]],\n",
       "\n",
       "       [[ 99, 175, 106, 133, 171,  85],\n",
       "        [ 60, 116,  71,  96, 111,  45],\n",
       "        [ 79, 132,  80,  86, 128,  84],\n",
       "        [ 40,  97,  54,  43,  75,  46]]])"
      ]
     },
     "execution_count": 9,
     "metadata": {},
     "output_type": "execute_result"
    }
   ],
   "source": [
    "x12 = np.matmul(x1, x2)\n",
    "x12"
   ]
  },
  {
   "cell_type": "code",
   "execution_count": 10,
   "metadata": {},
   "outputs": [
    {
     "data": {
      "text/plain": [
       "(3, 4, 6)"
      ]
     },
     "execution_count": 10,
     "metadata": {},
     "output_type": "execute_result"
    }
   ],
   "source": [
    "x12.shape"
   ]
  },
  {
   "cell_type": "code",
   "execution_count": null,
   "metadata": {
    "collapsed": true
   },
   "outputs": [],
   "source": []
  },
  {
   "cell_type": "code",
   "execution_count": null,
   "metadata": {
    "collapsed": true
   },
   "outputs": [],
   "source": []
  }
 ],
 "metadata": {
  "kernelspec": {
   "display_name": "Python 3",
   "language": "python",
   "name": "python3"
  },
  "language_info": {
   "codemirror_mode": {
    "name": "ipython",
    "version": 3
   },
   "file_extension": ".py",
   "mimetype": "text/x-python",
   "name": "python",
   "nbconvert_exporter": "python",
   "pygments_lexer": "ipython3",
   "version": "3.6.2"
  }
 },
 "nbformat": 4,
 "nbformat_minor": 2
}
