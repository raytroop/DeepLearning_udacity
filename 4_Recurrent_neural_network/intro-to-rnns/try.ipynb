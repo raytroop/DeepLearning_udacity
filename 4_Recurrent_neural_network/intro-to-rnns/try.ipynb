{
 "cells": [
  {
   "cell_type": "code",
   "execution_count": 2,
   "metadata": {
    "collapsed": true
   },
   "outputs": [],
   "source": [
    "import numpy as np"
   ]
  },
  {
   "cell_type": "code",
   "execution_count": 3,
   "metadata": {
    "collapsed": true
   },
   "outputs": [],
   "source": [
    "x = np.array([[1,2,3],[23,6,7]])"
   ]
  },
  {
   "cell_type": "code",
   "execution_count": 4,
   "metadata": {},
   "outputs": [
    {
     "data": {
      "text/plain": [
       "array([[ 1,  2,  3],\n",
       "       [23,  6,  7]])"
      ]
     },
     "execution_count": 4,
     "metadata": {},
     "output_type": "execute_result"
    }
   ],
   "source": [
    "x"
   ]
  },
  {
   "cell_type": "code",
   "execution_count": 5,
   "metadata": {},
   "outputs": [
    {
     "data": {
      "text/plain": [
       "6"
      ]
     },
     "execution_count": 5,
     "metadata": {},
     "output_type": "execute_result"
    }
   ],
   "source": [
    "x.size"
   ]
  },
  {
   "cell_type": "code",
   "execution_count": 6,
   "metadata": {},
   "outputs": [
    {
     "data": {
      "text/plain": [
       "6.0"
      ]
     },
     "execution_count": 6,
     "metadata": {},
     "output_type": "execute_result"
    }
   ],
   "source": [
    "np.floor(x.size)"
   ]
  },
  {
   "cell_type": "code",
   "execution_count": 7,
   "metadata": {},
   "outputs": [
    {
     "data": {
      "text/plain": [
       "6"
      ]
     },
     "execution_count": 7,
     "metadata": {},
     "output_type": "execute_result"
    }
   ],
   "source": [
    "np.int(np.floor(x.size))"
   ]
  },
  {
   "cell_type": "code",
   "execution_count": 12,
   "metadata": {},
   "outputs": [
    {
     "data": {
      "text/plain": [
       "array([[ True,  True],\n",
       "       [ True,  True],\n",
       "       [ True,  True]], dtype=bool)"
      ]
     },
     "execution_count": 12,
     "metadata": {},
     "output_type": "execute_result"
    }
   ],
   "source": [
    "x.reshape((3,2))  == x.reshape(3,2)"
   ]
  },
  {
   "cell_type": "code",
   "execution_count": 1,
   "metadata": {},
   "outputs": [
    {
     "name": "stdout",
     "output_type": "stream",
     "text": [
      "Extracting /tmp/data/train-images-idx3-ubyte.gz\n",
      "Extracting /tmp/data/train-labels-idx1-ubyte.gz\n",
      "Extracting /tmp/data/t10k-images-idx3-ubyte.gz\n",
      "Extracting /tmp/data/t10k-labels-idx1-ubyte.gz\n"
     ]
    }
   ],
   "source": [
    "from tensorflow.examples.tutorials.mnist import input_data\n",
    "mnist = input_data.read_data_sets(\"/tmp/data/\")"
   ]
  },
  {
   "cell_type": "code",
   "execution_count": 2,
   "metadata": {
    "collapsed": true
   },
   "outputs": [],
   "source": [
    "X_test = mnist.test.images"
   ]
  },
  {
   "cell_type": "code",
   "execution_count": 3,
   "metadata": {},
   "outputs": [
    {
     "data": {
      "text/plain": [
       "(10000, 784)"
      ]
     },
     "execution_count": 3,
     "metadata": {},
     "output_type": "execute_result"
    }
   ],
   "source": [
    "X_test.shape"
   ]
  },
  {
   "cell_type": "code",
   "execution_count": 4,
   "metadata": {},
   "outputs": [
    {
     "data": {
      "text/plain": [
       "[1, 1, 1, 1, 1]"
      ]
     },
     "execution_count": 4,
     "metadata": {},
     "output_type": "execute_result"
    }
   ],
   "source": [
    "[1]*5"
   ]
  },
  {
   "cell_type": "code",
   "execution_count": 14,
   "metadata": {
    "collapsed": true
   },
   "outputs": [],
   "source": [
    "import tensorflow as tf"
   ]
  },
  {
   "cell_type": "code",
   "execution_count": 15,
   "metadata": {
    "collapsed": true
   },
   "outputs": [],
   "source": [
    "tf.reset_default_graph()"
   ]
  },
  {
   "cell_type": "code",
   "execution_count": 17,
   "metadata": {
    "collapsed": true
   },
   "outputs": [],
   "source": [
    "n_hidden = 2\n",
    "num_layers = 3        \n",
    "lstm_cell = tf.contrib.rnn.BasicLSTMCell(n_hidden)\n",
    "stacked_lstm_cell = tf.contrib.rnn.MultiRNNCell([lstm_cell] * num_layers)\n",
    "writer = tf . summary . FileWriter ( './graphs' , sess . graph)\n",
    "with tf . Session () as sess:\n",
    "    writer = tf . summary . FileWriter ( './graphs' , sess . graph)\n",
    "    #print(sess . run ( x))\n",
    "# close the writer when you’re done using it\n",
    "writer.close()"
   ]
  },
  {
   "cell_type": "code",
   "execution_count": 30,
   "metadata": {
    "collapsed": true
   },
   "outputs": [],
   "source": [
    "tf.reset_default_graph()"
   ]
  },
  {
   "cell_type": "code",
   "execution_count": 31,
   "metadata": {
    "collapsed": true
   },
   "outputs": [],
   "source": [
    "v1 = tf.Variable([[[1,2],[2,4]],\n",
    "                             [[2,3],[3,7]],\n",
    "                             [[9,0],[89,11]]])"
   ]
  },
  {
   "cell_type": "code",
   "execution_count": 32,
   "metadata": {},
   "outputs": [
    {
     "data": {
      "text/plain": [
       "TensorShape([Dimension(3), Dimension(2), Dimension(2)])"
      ]
     },
     "execution_count": 32,
     "metadata": {},
     "output_type": "execute_result"
    }
   ],
   "source": [
    "v1.get_shape()"
   ]
  },
  {
   "cell_type": "code",
   "execution_count": 33,
   "metadata": {
    "collapsed": true
   },
   "outputs": [],
   "source": [
    "v1c = tf.concat(v1, axis= 1)"
   ]
  },
  {
   "cell_type": "code",
   "execution_count": 34,
   "metadata": {},
   "outputs": [
    {
     "data": {
      "text/plain": [
       "TensorShape([Dimension(3), Dimension(2), Dimension(2)])"
      ]
     },
     "execution_count": 34,
     "metadata": {},
     "output_type": "execute_result"
    }
   ],
   "source": [
    "v1c.get_shape()"
   ]
  },
  {
   "cell_type": "code",
   "execution_count": 35,
   "metadata": {},
   "outputs": [
    {
     "data": {
      "text/plain": [
       "<tf.Tensor 'concat:0' shape=(3, 2, 2) dtype=int32>"
      ]
     },
     "execution_count": 35,
     "metadata": {},
     "output_type": "execute_result"
    }
   ],
   "source": [
    "v1c"
   ]
  },
  {
   "cell_type": "code",
   "execution_count": 36,
   "metadata": {},
   "outputs": [
    {
     "data": {
      "text/plain": [
       "False"
      ]
     },
     "execution_count": 36,
     "metadata": {},
     "output_type": "execute_result"
    }
   ],
   "source": [
    "v1c == v1"
   ]
  },
  {
   "cell_type": "code",
   "execution_count": 37,
   "metadata": {
    "collapsed": true
   },
   "outputs": [],
   "source": [
    "v2 = v1*2"
   ]
  },
  {
   "cell_type": "code",
   "execution_count": 38,
   "metadata": {},
   "outputs": [
    {
     "data": {
      "text/plain": [
       "<tf.Tensor 'mul:0' shape=(3, 2, 2) dtype=int32>"
      ]
     },
     "execution_count": 38,
     "metadata": {},
     "output_type": "execute_result"
    }
   ],
   "source": [
    "v2"
   ]
  },
  {
   "cell_type": "code",
   "execution_count": 40,
   "metadata": {
    "collapsed": true
   },
   "outputs": [],
   "source": [
    "v2c = tf.concat((v1, v2), axis= 1)"
   ]
  },
  {
   "cell_type": "code",
   "execution_count": 41,
   "metadata": {},
   "outputs": [
    {
     "data": {
      "text/plain": [
       "<tf.Tensor 'concat_1:0' shape=(3, 4, 2) dtype=int32>"
      ]
     },
     "execution_count": 41,
     "metadata": {},
     "output_type": "execute_result"
    }
   ],
   "source": [
    "v2c"
   ]
  },
  {
   "cell_type": "code",
   "execution_count": 46,
   "metadata": {},
   "outputs": [
    {
     "name": "stdout",
     "output_type": "stream",
     "text": [
      "[array([[[ 1,  2],\n",
      "        [ 2,  4]],\n",
      "\n",
      "       [[ 2,  3],\n",
      "        [ 3,  7]],\n",
      "\n",
      "       [[ 9,  0],\n",
      "        [89, 11]]]), array([[[  2,   4],\n",
      "        [  4,   8]],\n",
      "\n",
      "       [[  4,   6],\n",
      "        [  6,  14]],\n",
      "\n",
      "       [[ 18,   0],\n",
      "        [178,  22]]]), array([[[ 1,  2],\n",
      "        [ 2,  4]],\n",
      "\n",
      "       [[ 2,  3],\n",
      "        [ 3,  7]],\n",
      "\n",
      "       [[ 9,  0],\n",
      "        [89, 11]]]), array([[[  1,   2],\n",
      "        [  2,   4],\n",
      "        [  2,   4],\n",
      "        [  4,   8]],\n",
      "\n",
      "       [[  2,   3],\n",
      "        [  3,   7],\n",
      "        [  4,   6],\n",
      "        [  6,  14]],\n",
      "\n",
      "       [[  9,   0],\n",
      "        [ 89,  11],\n",
      "        [ 18,   0],\n",
      "        [178,  22]]])]\n"
     ]
    }
   ],
   "source": [
    "with tf.Session() as sess:\n",
    "    sess.run(tf.global_variables_initializer())\n",
    "    print(sess.run([v1,v2,v1c,v2c]))"
   ]
  },
  {
   "cell_type": "code",
   "execution_count": 59,
   "metadata": {
    "collapsed": true
   },
   "outputs": [],
   "source": [
    "import numpy as np"
   ]
  },
  {
   "cell_type": "code",
   "execution_count": 73,
   "metadata": {},
   "outputs": [
    {
     "data": {
      "text/plain": [
       "(3, 2, 2)"
      ]
     },
     "execution_count": 73,
     "metadata": {},
     "output_type": "execute_result"
    }
   ],
   "source": [
    "matrix1 = np.array([[[1],[2]],\n",
    "                             [[2],[3]],\n",
    "                             [[9],[7]]])\n",
    "matrix2 = 0.5*matrix1\n",
    "matrix.shape"
   ]
  },
  {
   "cell_type": "code",
   "execution_count": 74,
   "metadata": {},
   "outputs": [
    {
     "data": {
      "text/plain": [
       "array([[[1],\n",
       "        [2]],\n",
       "\n",
       "       [[2],\n",
       "        [3]],\n",
       "\n",
       "       [[9],\n",
       "        [7]]])"
      ]
     },
     "execution_count": 74,
     "metadata": {},
     "output_type": "execute_result"
    }
   ],
   "source": [
    "matrix1"
   ]
  },
  {
   "cell_type": "code",
   "execution_count": 75,
   "metadata": {},
   "outputs": [
    {
     "data": {
      "text/plain": [
       "array([[[ 0.5],\n",
       "        [ 1. ]],\n",
       "\n",
       "       [[ 1. ],\n",
       "        [ 1.5]],\n",
       "\n",
       "       [[ 4.5],\n",
       "        [ 3.5]]])"
      ]
     },
     "execution_count": 75,
     "metadata": {},
     "output_type": "execute_result"
    }
   ],
   "source": [
    "matrix2"
   ]
  },
  {
   "cell_type": "code",
   "execution_count": 76,
   "metadata": {
    "collapsed": true
   },
   "outputs": [],
   "source": [
    "v1 = tf.Variable(matrix1, dtype= tf.float32)\n",
    "v2 = tf.Variable(matrix2, dtype= tf.float32)"
   ]
  },
  {
   "cell_type": "code",
   "execution_count": 77,
   "metadata": {},
   "outputs": [
    {
     "data": {
      "text/plain": [
       "TensorShape([Dimension(3), Dimension(2), Dimension(1)])"
      ]
     },
     "execution_count": 77,
     "metadata": {},
     "output_type": "execute_result"
    }
   ],
   "source": [
    "v1.get_shape()"
   ]
  },
  {
   "cell_type": "code",
   "execution_count": 78,
   "metadata": {},
   "outputs": [
    {
     "data": {
      "text/plain": [
       "TensorShape([Dimension(3), Dimension(2), Dimension(1)])"
      ]
     },
     "execution_count": 78,
     "metadata": {},
     "output_type": "execute_result"
    }
   ],
   "source": [
    "v2.get_shape()"
   ]
  },
  {
   "cell_type": "code",
   "execution_count": 79,
   "metadata": {},
   "outputs": [
    {
     "data": {
      "text/plain": [
       "[3, 2, 1]"
      ]
     },
     "execution_count": 79,
     "metadata": {},
     "output_type": "execute_result"
    }
   ],
   "source": [
    "v1.get_shape().as_list()"
   ]
  },
  {
   "cell_type": "code",
   "execution_count": 80,
   "metadata": {
    "collapsed": true
   },
   "outputs": [],
   "source": [
    "vc0 = tf.concat([v1, v2], axis= 0)\n",
    "vc1 = tf.concat([v1, v2], axis= 1)\n",
    "vc2 = tf.concat([v1, v2], axis= 2)"
   ]
  },
  {
   "cell_type": "code",
   "execution_count": 81,
   "metadata": {},
   "outputs": [
    {
     "data": {
      "text/plain": [
       "(TensorShape([Dimension(6), Dimension(2), Dimension(1)]),\n",
       " TensorShape([Dimension(3), Dimension(4), Dimension(1)]),\n",
       " TensorShape([Dimension(3), Dimension(2), Dimension(2)]))"
      ]
     },
     "execution_count": 81,
     "metadata": {},
     "output_type": "execute_result"
    }
   ],
   "source": [
    "vc0.shape, vc1.shape, vc2.shape"
   ]
  },
  {
   "cell_type": "code",
   "execution_count": 85,
   "metadata": {},
   "outputs": [
    {
     "name": "stdout",
     "output_type": "stream",
     "text": [
      "vc0:\n",
      "[[[ 1. ]\n",
      "  [ 2. ]]\n",
      "\n",
      " [[ 2. ]\n",
      "  [ 3. ]]\n",
      "\n",
      " [[ 9. ]\n",
      "  [ 7. ]]\n",
      "\n",
      " [[ 0.5]\n",
      "  [ 1. ]]\n",
      "\n",
      " [[ 1. ]\n",
      "  [ 1.5]]\n",
      "\n",
      " [[ 4.5]\n",
      "  [ 3.5]]]\n",
      "\n",
      "\n",
      "vc1:\n",
      "[[[ 1. ]\n",
      "  [ 2. ]\n",
      "  [ 0.5]\n",
      "  [ 1. ]]\n",
      "\n",
      " [[ 2. ]\n",
      "  [ 3. ]\n",
      "  [ 1. ]\n",
      "  [ 1.5]]\n",
      "\n",
      " [[ 9. ]\n",
      "  [ 7. ]\n",
      "  [ 4.5]\n",
      "  [ 3.5]]]\n",
      "\n",
      "\n",
      "vc2:\n",
      "[[[ 1.   0.5]\n",
      "  [ 2.   1. ]]\n",
      "\n",
      " [[ 2.   1. ]\n",
      "  [ 3.   1.5]]\n",
      "\n",
      " [[ 9.   4.5]\n",
      "  [ 7.   3.5]]]\n"
     ]
    }
   ],
   "source": [
    "with tf.Session() as sess:\n",
    "    sess.run(tf.global_variables_initializer())\n",
    "    print('vc0:')\n",
    "    print(sess.run(vc0))\n",
    "    print('\\n')\n",
    "    print('vc1:')\n",
    "    print(sess.run(vc1))\n",
    "    print('\\n')\n",
    "    print('vc2:')\n",
    "    print(sess.run(vc2))"
   ]
  },
  {
   "cell_type": "code",
   "execution_count": 1,
   "metadata": {
    "collapsed": true
   },
   "outputs": [],
   "source": [
    "import tensorflow as tf"
   ]
  },
  {
   "cell_type": "code",
   "execution_count": 8,
   "metadata": {},
   "outputs": [
    {
     "name": "stdout",
     "output_type": "stream",
     "text": [
      "100\n"
     ]
    }
   ],
   "source": [
    "tf.reset_default_graph()\n",
    "W = tf.Variable (10 , name= 'W')\n",
    "assign_op = tf.assign(W, 100, name= 'assignX')\n",
    "tf.summary.FileWriter('.', tf.get_default_graph())\n",
    "with tf.Session () as sess:\n",
    "    print(sess.run ( assign_op))\n",
    "    #print W . eval () # >> 100"
   ]
  },
  {
   "cell_type": "code",
   "execution_count": 18,
   "metadata": {},
   "outputs": [
    {
     "name": "stdout",
     "output_type": "stream",
     "text": [
      "<class 'numpy.int32'>\n",
      "130\n",
      "230\n",
      "210\n",
      "210\n"
     ]
    }
   ],
   "source": [
    "tf.reset_default_graph()\n",
    "W = tf.Variable (10 , name= 'W')\n",
    "assign_op = tf.assign_add(W, 100, name= 'assignX')\n",
    "b = tf.Variable(20, name = 'bias')\n",
    "out = tf.add(b, assign_op, name='output')\n",
    "tf.summary.FileWriter('.', tf.get_default_graph())\n",
    "with tf.Session () as sess:\n",
    "    sess.run(tf.global_variables_initializer())\n",
    "    what = sess.run(out)\n",
    "    print(type(what))\n",
    "    print(what)\n",
    "    print(sess.run(out))\n",
    "    print(sess.run(W))\n",
    "    print(sess.run(W))\n",
    "    #print W . eval () # >> 100"
   ]
  },
  {
   "cell_type": "code",
   "execution_count": 12,
   "metadata": {},
   "outputs": [
    {
     "data": {
      "text/plain": [
       "tensorflow.python.ops.variables.Variable"
      ]
     },
     "execution_count": 12,
     "metadata": {},
     "output_type": "execute_result"
    }
   ],
   "source": [
    "type(b)"
   ]
  },
  {
   "cell_type": "code",
   "execution_count": 19,
   "metadata": {
    "collapsed": true
   },
   "outputs": [],
   "source": [
    "import numpy as np"
   ]
  },
  {
   "cell_type": "code",
   "execution_count": 21,
   "metadata": {},
   "outputs": [],
   "source": [
    "p = np.array([  1.79670251e-03  , 8.48622341e-03  , 1.35987252e-03  , 2.20882706e-04\n",
    "   ,4.13246271e-05   ,3.67764151e-05   ,6.17338010e-05   ,1.96004738e-04\n",
    "   ,3.06342699e-05   ,1.35946219e-04   ,5.39845169e-05   ,3.62909795e-03\n",
    "   ,6.72275375e-04   ,1.73283659e-03   ,2.71370700e-05   ,7.98285400e-05\n",
    "   ,1.34425572e-04   ,1.19585042e-04   ,8.53222373e-05   ,6.26871915e-05\n",
    "   ,1.02372680e-04   ,5.93961668e-05   ,1.08500048e-04   ,7.99504487e-05\n",
    "   ,8.37917396e-05   ,2.79472326e-04   ,8.61068605e-04   ,1.04662147e-03\n",
    "   ,2.90205189e-05   ,2.92611745e-04   ,2.16551591e-04   ,1.45310332e-04\n",
    "   ,1.37882831e-04   ,1.47966333e-04   ,2.23203766e-04   ,3.83134990e-04\n",
    "   ,1.59632211e-04   ,2.72602920e-04   ,5.07905243e-05   ,1.49904445e-04\n",
    "   ,1.08252927e-04   ,5.41987829e-04   ,6.96272298e-04   ,1.52160515e-04\n",
    "   ,3.74216499e-04   ,4.57430651e-05   ,4.32622473e-04   ,3.68362787e-04\n",
    "   ,9.64334526e-04   ,7.71633495e-05   ,1.90186853e-04   ,1.98742040e-04\n",
    "   ,8.22622533e-05   ,1.31116409e-04   ,5.31580081e-05   ,2.92567944e-04\n",
    "   ,3.27887319e-05   ,4.82854759e-03   ,2.60753860e-03   ,2.99070291e-02\n",
    "   ,7.63293132e-02   ,4.63220924e-02   ,4.48252587e-03   ,4.97466000e-03\n",
    "   ,6.87842898e-04   ,1.02311019e-02   ,8.13345832e-04   ,1.48103843e-02\n",
    "   ,1.28051788e-01   ,8.13773796e-02   ,5.86575679e-02   ,1.02015845e-02\n",
    "   ,9.78331198e-04   ,1.20602874e-03   ,1.78933576e-01   ,2.45337915e-02\n",
    "   ,2.59180695e-01   ,2.49908911e-03   ,1.37627441e-02   ,3.19025782e-03\n",
    "   ,1.37731491e-03  , 9.77514032e-03   ,1.74523611e-03])"
   ]
  },
  {
   "cell_type": "code",
   "execution_count": 22,
   "metadata": {},
   "outputs": [
    {
     "data": {
      "text/plain": [
       "(83,)"
      ]
     },
     "execution_count": 22,
     "metadata": {},
     "output_type": "execute_result"
    }
   ],
   "source": [
    "p.shape"
   ]
  },
  {
   "cell_type": "code",
   "execution_count": 23,
   "metadata": {},
   "outputs": [
    {
     "data": {
      "text/plain": [
       "array([  2.71370700e-05,   2.90205189e-05,   3.06342699e-05,\n",
       "         3.27887319e-05,   3.67764151e-05,   4.13246271e-05,\n",
       "         4.57430651e-05,   5.07905243e-05,   5.31580081e-05,\n",
       "         5.39845169e-05,   5.93961668e-05,   6.17338010e-05,\n",
       "         6.26871915e-05,   7.71633495e-05,   7.98285400e-05,\n",
       "         7.99504487e-05,   8.22622533e-05,   8.37917396e-05,\n",
       "         8.53222373e-05,   1.02372680e-04,   1.08252927e-04,\n",
       "         1.08500048e-04,   1.19585042e-04,   1.31116409e-04,\n",
       "         1.34425572e-04,   1.35946219e-04,   1.37882831e-04,\n",
       "         1.45310332e-04,   1.47966333e-04,   1.49904445e-04,\n",
       "         1.52160515e-04,   1.59632211e-04,   1.90186853e-04,\n",
       "         1.96004738e-04,   1.98742040e-04,   2.16551591e-04,\n",
       "         2.20882706e-04,   2.23203766e-04,   2.72602920e-04,\n",
       "         2.79472326e-04,   2.92567944e-04,   2.92611745e-04,\n",
       "         3.68362787e-04,   3.74216499e-04,   3.83134990e-04,\n",
       "         4.32622473e-04,   5.41987829e-04,   6.72275375e-04,\n",
       "         6.87842898e-04,   6.96272298e-04,   8.13345832e-04,\n",
       "         8.61068605e-04,   9.64334526e-04,   9.78331198e-04,\n",
       "         1.04662147e-03,   1.20602874e-03,   1.35987252e-03,\n",
       "         1.37731491e-03,   1.73283659e-03,   1.74523611e-03,\n",
       "         1.79670251e-03,   2.49908911e-03,   2.60753860e-03,\n",
       "         3.19025782e-03,   3.62909795e-03,   4.48252587e-03,\n",
       "         4.82854759e-03,   4.97466000e-03,   8.48622341e-03,\n",
       "         9.77514032e-03,   1.02015845e-02,   1.02311019e-02,\n",
       "         1.37627441e-02,   1.48103843e-02,   2.45337915e-02,\n",
       "         2.99070291e-02,   4.63220924e-02,   5.86575679e-02,\n",
       "         7.63293132e-02,   8.13773796e-02,   1.28051788e-01,\n",
       "         1.78933576e-01,   2.59180695e-01])"
      ]
     },
     "execution_count": 23,
     "metadata": {},
     "output_type": "execute_result"
    }
   ],
   "source": [
    " p[np.argsort(p)]"
   ]
  },
  {
   "cell_type": "code",
   "execution_count": null,
   "metadata": {
    "collapsed": true
   },
   "outputs": [],
   "source": []
  },
  {
   "cell_type": "code",
   "execution_count": 24,
   "metadata": {
    "collapsed": true
   },
   "outputs": [],
   "source": [
    "top_n=5"
   ]
  },
  {
   "cell_type": "code",
   "execution_count": 25,
   "metadata": {
    "collapsed": true
   },
   "outputs": [],
   "source": [
    "p[np.argsort(p)[:-top_n]] = 0"
   ]
  },
  {
   "cell_type": "code",
   "execution_count": 26,
   "metadata": {},
   "outputs": [
    {
     "data": {
      "text/plain": [
       "array([ 0.        ,  0.        ,  0.        ,  0.        ,  0.        ,\n",
       "        0.        ,  0.        ,  0.        ,  0.        ,  0.        ,\n",
       "        0.        ,  0.        ,  0.        ,  0.        ,  0.        ,\n",
       "        0.        ,  0.        ,  0.        ,  0.        ,  0.        ,\n",
       "        0.        ,  0.        ,  0.        ,  0.        ,  0.        ,\n",
       "        0.        ,  0.        ,  0.        ,  0.        ,  0.        ,\n",
       "        0.        ,  0.        ,  0.        ,  0.        ,  0.        ,\n",
       "        0.        ,  0.        ,  0.        ,  0.        ,  0.        ,\n",
       "        0.        ,  0.        ,  0.        ,  0.        ,  0.        ,\n",
       "        0.        ,  0.        ,  0.        ,  0.        ,  0.        ,\n",
       "        0.        ,  0.        ,  0.        ,  0.        ,  0.        ,\n",
       "        0.        ,  0.        ,  0.        ,  0.        ,  0.        ,\n",
       "        0.07632931,  0.        ,  0.        ,  0.        ,  0.        ,\n",
       "        0.        ,  0.        ,  0.        ,  0.12805179,  0.08137738,\n",
       "        0.        ,  0.        ,  0.        ,  0.        ,  0.17893358,\n",
       "        0.        ,  0.2591807 ,  0.        ,  0.        ,  0.        ,\n",
       "        0.        ,  0.        ,  0.        ])"
      ]
     },
     "execution_count": 26,
     "metadata": {},
     "output_type": "execute_result"
    }
   ],
   "source": [
    "p"
   ]
  },
  {
   "cell_type": "code",
   "execution_count": 33,
   "metadata": {},
   "outputs": [
    {
     "data": {
      "text/plain": [
       "array([[11, 21],\n",
       "       [ 8, 33],\n",
       "       [13, 32]])"
      ]
     },
     "execution_count": 33,
     "metadata": {},
     "output_type": "execute_result"
    }
   ],
   "source": [
    "x = np.array([[11, 21], [8, 33], [13, 32]])\n",
    "x"
   ]
  },
  {
   "cell_type": "code",
   "execution_count": 34,
   "metadata": {},
   "outputs": [
    {
     "data": {
      "text/plain": [
       "array([[1, 0],\n",
       "       [0, 2],\n",
       "       [2, 1]], dtype=int64)"
      ]
     },
     "execution_count": 34,
     "metadata": {},
     "output_type": "execute_result"
    }
   ],
   "source": [
    "np.argsort(x, axis=0)"
   ]
  },
  {
   "cell_type": "code",
   "execution_count": 35,
   "metadata": {},
   "outputs": [
    {
     "data": {
      "text/plain": [
       "array([[[ 8, 33],\n",
       "        [11, 21]],\n",
       "\n",
       "       [[11, 21],\n",
       "        [13, 32]],\n",
       "\n",
       "       [[13, 32],\n",
       "        [ 8, 33]]])"
      ]
     },
     "execution_count": 35,
     "metadata": {},
     "output_type": "execute_result"
    }
   ],
   "source": [
    "x[np.argsort(x, axis=0)]"
   ]
  },
  {
   "cell_type": "code",
   "execution_count": 36,
   "metadata": {},
   "outputs": [
    {
     "data": {
      "text/plain": [
       "11"
      ]
     },
     "execution_count": 36,
     "metadata": {},
     "output_type": "execute_result"
    }
   ],
   "source": [
    "x[0,0]"
   ]
  },
  {
   "cell_type": "code",
   "execution_count": 37,
   "metadata": {},
   "outputs": [
    {
     "data": {
      "text/plain": [
       "array([11, 21])"
      ]
     },
     "execution_count": 37,
     "metadata": {},
     "output_type": "execute_result"
    }
   ],
   "source": [
    "x[0]"
   ]
  },
  {
   "cell_type": "code",
   "execution_count": 38,
   "metadata": {},
   "outputs": [
    {
     "data": {
      "text/plain": [
       "array([0, 2, 1])"
      ]
     },
     "execution_count": 38,
     "metadata": {},
     "output_type": "execute_result"
    }
   ],
   "source": [
    "np.random.choice(3, 3)"
   ]
  },
  {
   "cell_type": "code",
   "execution_count": 40,
   "metadata": {},
   "outputs": [
    {
     "data": {
      "text/plain": [
       "array([1, 2, 0])"
      ]
     },
     "execution_count": 40,
     "metadata": {},
     "output_type": "execute_result"
    }
   ],
   "source": [
    "np.random.choice(3, 3)"
   ]
  },
  {
   "cell_type": "code",
   "execution_count": 42,
   "metadata": {},
   "outputs": [
    {
     "data": {
      "text/plain": [
       "array([1])"
      ]
     },
     "execution_count": 42,
     "metadata": {},
     "output_type": "execute_result"
    }
   ],
   "source": [
    "np.random.choice(3, 1)"
   ]
  },
  {
   "cell_type": "code",
   "execution_count": 43,
   "metadata": {},
   "outputs": [
    {
     "data": {
      "text/plain": [
       "2"
      ]
     },
     "execution_count": 43,
     "metadata": {},
     "output_type": "execute_result"
    }
   ],
   "source": [
    "np.random.choice(3, 1)[0]"
   ]
  },
  {
   "cell_type": "code",
   "execution_count": null,
   "metadata": {
    "collapsed": true
   },
   "outputs": [],
   "source": []
  }
 ],
 "metadata": {
  "kernelspec": {
   "display_name": "Python 3",
   "language": "python",
   "name": "python3"
  },
  "language_info": {
   "codemirror_mode": {
    "name": "ipython",
    "version": 3
   },
   "file_extension": ".py",
   "mimetype": "text/x-python",
   "name": "python",
   "nbconvert_exporter": "python",
   "pygments_lexer": "ipython3",
   "version": "3.6.2"
  }
 },
 "nbformat": 4,
 "nbformat_minor": 2
}
