{
 "cells": [
  {
   "cell_type": "markdown",
   "metadata": {},
   "source": [
    "# A Simple Autoencoder\n",
    "\n",
    "We'll start off by building a simple autoencoder to compress the MNIST dataset. With autoencoders, we pass input data through an encoder that makes a compressed representation of the input. Then, this representation is passed through a decoder to reconstruct the input data. Generally the encoder and decoder will be built with neural networks, then trained on example data.\n",
    "\n",
    "![Autoencoder](assets/autoencoder_1.png)\n",
    "\n",
    "In this notebook, we'll be build a simple network architecture for the encoder and decoder. Let's get started by importing our libraries and getting the dataset."
   ]
  },
  {
   "cell_type": "code",
   "execution_count": 1,
   "metadata": {
    "collapsed": true
   },
   "outputs": [],
   "source": [
    "%matplotlib inline\n",
    "\n",
    "import numpy as np\n",
    "import tensorflow as tf\n",
    "import matplotlib.pyplot as plt"
   ]
  },
  {
   "cell_type": "code",
   "execution_count": 2,
   "metadata": {},
   "outputs": [
    {
     "name": "stdout",
     "output_type": "stream",
     "text": [
      "Successfully downloaded train-images-idx3-ubyte.gz 9912422 bytes.\n",
      "Extracting MNIST_data\\train-images-idx3-ubyte.gz\n",
      "Successfully downloaded train-labels-idx1-ubyte.gz 28881 bytes.\n",
      "Extracting MNIST_data\\train-labels-idx1-ubyte.gz\n",
      "Successfully downloaded t10k-images-idx3-ubyte.gz 1648877 bytes.\n",
      "Extracting MNIST_data\\t10k-images-idx3-ubyte.gz\n",
      "Successfully downloaded t10k-labels-idx1-ubyte.gz 4542 bytes.\n",
      "Extracting MNIST_data\\t10k-labels-idx1-ubyte.gz\n"
     ]
    }
   ],
   "source": [
    "from tensorflow.examples.tutorials.mnist import input_data\n",
    "mnist = input_data.read_data_sets('MNIST_data', validation_size=0)"
   ]
  },
  {
   "cell_type": "markdown",
   "metadata": {},
   "source": [
    "Below I'm plotting an example image from the MNIST dataset. These are 28x28 grayscale images of handwritten digits."
   ]
  },
  {
   "cell_type": "code",
   "execution_count": 16,
   "metadata": {},
   "outputs": [
    {
     "data": {
      "text/plain": [
       "(0.0, 1.0)"
      ]
     },
     "execution_count": 16,
     "metadata": {},
     "output_type": "execute_result"
    },
    {
     "data": {
      "image/png": "[encoded data removed]",
      "text/plain": [
       "<matplotlib.figure.Figure at 0x272e2c85320>"
      ]
     },
     "metadata": {},
     "output_type": "display_data"
    }
   ],
   "source": [
    "img = mnist.train.images[4]\n",
    "plt.imshow(img.reshape((28, 28)), cmap='Greys_r')\n",
    "np.min(img), np.max(img)"
   ]
  },
  {
   "cell_type": "markdown",
   "metadata": {},
   "source": [
    "We'll train an autoencoder with these images by flattening them into 784 length vectors. The images from this dataset are already normalized such that the values are between 0 and 1. Let's start by building basically the simplest autoencoder with a **single ReLU hidden layer**. This layer will be used as the compressed representation. Then, the encoder is the input layer and the hidden layer. The decoder is the hidden layer and the output layer. Since the images are normalized between 0 and 1, we need to use a **sigmoid activation on the output layer** to get values matching the input.\n",
    "\n",
    "![Autoencoder architecture](assets/simple_autoencoder.png)\n",
    "\n",
    "\n",
    "> **Exercise:** Build the graph for the autoencoder in the cell below. The input images will be flattened into 784 length vectors. The targets are the same as the inputs. And there should be one hidden layer with a ReLU activation and an output layer with a sigmoid activation. Feel free to use TensorFlow's higher level API, `tf.layers`. For instance, you would use [`tf.layers.dense(inputs, units, activation=tf.nn.relu)`](https://www.tensorflow.org/api_docs/python/tf/layers/dense) to create a fully connected layer with a ReLU activation. The loss should be calculated with the cross-entropy loss, there is a convenient TensorFlow function for this `tf.nn.sigmoid_cross_entropy_with_logits` ([documentation](https://www.tensorflow.org/api_docs/python/tf/nn/sigmoid_cross_entropy_with_logits)). You should note that `tf.nn.sigmoid_cross_entropy_with_logits` takes the logits, but to get the reconstructed images you'll need to pass the logits through the sigmoid function."
   ]
  },
  {
   "cell_type": "code",
   "execution_count": 27,
   "metadata": {},
   "outputs": [],
   "source": [
    "# Size of the encoding layer (the hidden layer)\n",
    "encoding_dim = 32 # feel free to change this value\n",
    "\n",
    "# Input and target placeholders\n",
    "inputs_ = tf.placeholder(tf.float32, shape=[None, 784]) \n",
    "targets_ = tf.placeholder(tf.float32, shape=[None, 784])\n",
    "\n",
    "# Output of hidden layer, single fully connected layer here with ReLU activation\n",
    "encoded = tf.layers.dense(inputs_, encoding_dim, activation= tf.nn.relu)\n",
    "\n",
    "# Output layer logits, fully connected layer with no activation\n",
    "logits = tf.layers.dense(encoded, 784, activation= None)\n",
    "# Sigmoid output from logits\n",
    "decoded = tf.nn.sigmoid(logits)\n",
    "\n",
    "# Sigmoid cross-entropy loss\n",
    "loss = tf.nn.sigmoid_cross_entropy_with_logits(logits= logits, labels= targets_)\n",
    "# Mean of the loss\n",
    "cost = tf.reduce_sum(loss)\n",
    "\n",
    "# Adam optimizer\n",
    "opt = tf.train.AdamOptimizer().minimize(cost)"
   ]
  },
  {
   "cell_type": "markdown",
   "metadata": {},
   "source": [
    "## solution\n",
    "> name parameter in tensor\n",
    "\n",
    "> image_size = mnist.train.images.shape[1]"
   ]
  },
  {
   "cell_type": "code",
   "execution_count": 23,
   "metadata": {
    "collapsed": true
   },
   "outputs": [],
   "source": [
    "# Size of the encoding layer (the hidden layer)\n",
    "encoding_dim = 32\n",
    "\n",
    "image_size = mnist.train.images.shape[1]\n",
    "\n",
    "inputs_ = tf.placeholder(tf.float32, (None, image_size), name='inputs')\n",
    "targets_ = tf.placeholder(tf.float32, (None, image_size), name='targets')\n",
    "\n",
    "# Output of hidden layer\n",
    "encoded = tf.layers.dense(inputs_, encoding_dim, activation=tf.nn.relu)\n",
    "\n",
    "# Output layer logits\n",
    "logits = tf.layers.dense(encoded, image_size, activation=None)\n",
    "# Sigmoid output from\n",
    "decoded = tf.nn.sigmoid(logits, name='output')\n",
    "\n",
    "loss = tf.nn.sigmoid_cross_entropy_with_logits(labels=targets_, logits=logits)\n",
    "cost = tf.reduce_mean(loss)\n",
    "opt = tf.train.AdamOptimizer(0.001).minimize(cost)"
   ]
  },
  {
   "cell_type": "markdown",
   "metadata": {},
   "source": [
    "## Training"
   ]
  },
  {
   "cell_type": "code",
   "execution_count": 21,
   "metadata": {
    "collapsed": true
   },
   "outputs": [],
   "source": [
    "# Create the session\n",
    "sess = tf.Session()"
   ]
  },
  {
   "cell_type": "markdown",
   "metadata": {},
   "source": [
    "Here I'll write a bit of code to train the network. I'm not too interested in validation here, so I'll just monitor the training loss. \n",
    "\n",
    "Calling `mnist.train.next_batch(batch_size)` will return a tuple of `(images, labels)`. We're not concerned with the labels here, we just need the images. Otherwise this is pretty straightfoward training with TensorFlow. We initialize the variables with `sess.run(tf.global_variables_initializer())`. Then, run the optimizer and get the loss with `batch_cost, _ = sess.run([cost, opt], feed_dict=feed)`."
   ]
  },
  {
   "cell_type": "code",
   "execution_count": 26,
   "metadata": {
    "scrolled": true
   },
   "outputs": [
    {
     "name": "stdout",
     "output_type": "stream",
     "text": [
      "Epoch: 1/20... Training loss: 108639.0625\n",
      "Epoch: 1/20... Training loss: 108107.5703\n",
      "Epoch: 1/20... Training loss: 107470.1719\n",
      "Epoch: 1/20... Training loss: 106779.4531\n",
      "Epoch: 1/20... Training loss: 105958.2656\n",
      "Epoch: 1/20... Training loss: 104994.8281\n",
      "Epoch: 1/20... Training loss: 103953.6953\n",
      "Epoch: 1/20... Training loss: 102714.9375\n",
      "Epoch: 1/20... Training loss: 101209.8594\n",
      "Epoch: 1/20... Training loss: 99287.1562\n",
      "Epoch: 1/20... Training loss: 97808.8828\n",
      "Epoch: 1/20... Training loss: 95525.9141\n",
      "Epoch: 1/20... Training loss: 92891.9531\n",
      "Epoch: 1/20... Training loss: 90819.9141\n",
      "Epoch: 1/20... Training loss: 88081.5234\n",
      "Epoch: 1/20... Training loss: 85660.2812\n",
      "Epoch: 1/20... Training loss: 82865.7188\n",
      "Epoch: 1/20... Training loss: 80204.2656\n",
      "Epoch: 1/20... Training loss: 77833.0469\n",
      "Epoch: 1/20... Training loss: 74589.8281\n",
      "Epoch: 1/20... Training loss: 71903.9922\n",
      "Epoch: 1/20... Training loss: 70471.4766\n",
      "Epoch: 1/20... Training loss: 67377.1328\n",
      "Epoch: 1/20... Training loss: 65227.9375\n",
      "Epoch: 1/20... Training loss: 61474.7656\n",
      "Epoch: 1/20... Training loss: 60462.8359\n",
      "Epoch: 1/20... Training loss: 58687.8594\n",
      "Epoch: 1/20... Training loss: 56461.6289\n",
      "Epoch: 1/20... Training loss: 53636.6367\n",
      "Epoch: 1/20... Training loss: 53960.0781\n",
      "Epoch: 1/20... Training loss: 53484.6484\n",
      "Epoch: 1/20... Training loss: 52388.7969\n",
      "Epoch: 1/20... Training loss: 50454.3203\n",
      "Epoch: 1/20... Training loss: 49798.5508\n",
      "Epoch: 1/20... Training loss: 48131.4141\n",
      "Epoch: 1/20... Training loss: 48400.5312\n",
      "Epoch: 1/20... Training loss: 46817.8281\n",
      "Epoch: 1/20... Training loss: 47917.2578\n",
      "Epoch: 1/20... Training loss: 46820.9297\n",
      "Epoch: 1/20... Training loss: 47921.3438\n",
      "Epoch: 1/20... Training loss: 46174.7148\n",
      "Epoch: 1/20... Training loss: 46143.6094\n",
      "Epoch: 1/20... Training loss: 46930.9102\n",
      "Epoch: 1/20... Training loss: 46588.8789\n",
      "Epoch: 1/20... Training loss: 45441.6250\n",
      "Epoch: 1/20... Training loss: 45329.9062\n",
      "Epoch: 1/20... Training loss: 45808.6719\n",
      "Epoch: 1/20... Training loss: 44659.3125\n",
      "Epoch: 1/20... Training loss: 45009.3164\n",
      "Epoch: 1/20... Training loss: 46202.2109\n",
      "Epoch: 1/20... Training loss: 44896.4844\n",
      "Epoch: 1/20... Training loss: 43905.5664\n",
      "Epoch: 1/20... Training loss: 45051.8008\n",
      "Epoch: 1/20... Training loss: 44210.8633\n",
      "Epoch: 1/20... Training loss: 43396.2031\n",
      "Epoch: 1/20... Training loss: 42914.6484\n",
      "Epoch: 1/20... Training loss: 42962.9961\n",
      "Epoch: 1/20... Training loss: 43897.4492\n",
      "Epoch: 1/20... Training loss: 43358.1797\n",
      "Epoch: 1/20... Training loss: 43850.6875\n",
      "Epoch: 1/20... Training loss: 43866.6211\n",
      "Epoch: 1/20... Training loss: 42461.6953\n",
      "Epoch: 1/20... Training loss: 42631.4258\n",
      "Epoch: 1/20... Training loss: 42034.2812\n",
      "Epoch: 1/20... Training loss: 42814.3789\n",
      "Epoch: 1/20... Training loss: 42958.0820\n",
      "Epoch: 1/20... Training loss: 43123.2578\n",
      "Epoch: 1/20... Training loss: 42179.4609\n",
      "Epoch: 1/20... Training loss: 42455.9336\n",
      "Epoch: 1/20... Training loss: 42099.9766\n",
      "Epoch: 1/20... Training loss: 43084.3047\n",
      "Epoch: 1/20... Training loss: 41541.3750\n",
      "Epoch: 1/20... Training loss: 42643.4531\n",
      "Epoch: 1/20... Training loss: 42553.5859\n",
      "Epoch: 1/20... Training loss: 41671.8828\n",
      "Epoch: 1/20... Training loss: 41189.1250\n",
      "Epoch: 1/20... Training loss: 41070.9219\n",
      "Epoch: 1/20... Training loss: 41167.5391\n",
      "Epoch: 1/20... Training loss: 41746.5391\n",
      "Epoch: 1/20... Training loss: 42021.6953\n",
      "Epoch: 1/20... Training loss: 41553.0547\n",
      "Epoch: 1/20... Training loss: 41433.1484\n",
      "Epoch: 1/20... Training loss: 40607.6641\n",
      "Epoch: 1/20... Training loss: 41345.0664\n",
      "Epoch: 1/20... Training loss: 40581.0117\n",
      "Epoch: 1/20... Training loss: 40435.3047\n",
      "Epoch: 1/20... Training loss: 40266.6445\n",
      "Epoch: 1/20... Training loss: 40905.5000\n",
      "Epoch: 1/20... Training loss: 39760.9844\n",
      "Epoch: 1/20... Training loss: 40616.5547\n",
      "Epoch: 1/20... Training loss: 40959.7969\n",
      "Epoch: 1/20... Training loss: 40328.1406\n",
      "Epoch: 1/20... Training loss: 39378.1523\n",
      "Epoch: 1/20... Training loss: 39657.4453\n",
      "Epoch: 1/20... Training loss: 39733.4141\n",
      "Epoch: 1/20... Training loss: 39587.0156\n",
      "Epoch: 1/20... Training loss: 39257.8633\n",
      "Epoch: 1/20... Training loss: 38851.2500\n",
      "Epoch: 1/20... Training loss: 39912.1875\n",
      "Epoch: 1/20... Training loss: 39414.9414\n",
      "Epoch: 1/20... Training loss: 37819.7891\n",
      "Epoch: 1/20... Training loss: 38321.8086\n",
      "Epoch: 1/20... Training loss: 40097.9297\n",
      "Epoch: 1/20... Training loss: 38538.2969\n",
      "Epoch: 1/20... Training loss: 38796.7500\n",
      "Epoch: 1/20... Training loss: 38928.8398\n",
      "Epoch: 1/20... Training loss: 38789.0625\n",
      "Epoch: 1/20... Training loss: 37982.8359\n",
      "Epoch: 1/20... Training loss: 39187.5000\n",
      "Epoch: 1/20... Training loss: 37472.5195\n",
      "Epoch: 1/20... Training loss: 37766.8359\n",
      "Epoch: 1/20... Training loss: 38469.9922\n",
      "Epoch: 1/20... Training loss: 38057.7656\n",
      "Epoch: 1/20... Training loss: 37641.1719\n",
      "Epoch: 1/20... Training loss: 38180.0820\n",
      "Epoch: 1/20... Training loss: 38352.1797\n",
      "Epoch: 1/20... Training loss: 37256.0742\n",
      "Epoch: 1/20... Training loss: 37554.8711\n",
      "Epoch: 1/20... Training loss: 36490.0859\n",
      "Epoch: 1/20... Training loss: 36583.4609\n",
      "Epoch: 1/20... Training loss: 36949.6875\n",
      "Epoch: 1/20... Training loss: 36905.3125\n",
      "Epoch: 1/20... Training loss: 36304.3867\n",
      "Epoch: 1/20... Training loss: 36743.5703\n",
      "Epoch: 1/20... Training loss: 37224.1875\n",
      "Epoch: 1/20... Training loss: 37917.9531\n",
      "Epoch: 1/20... Training loss: 36301.2812\n",
      "Epoch: 1/20... Training loss: 37539.9727\n",
      "Epoch: 1/20... Training loss: 36037.3555\n",
      "Epoch: 1/20... Training loss: 36758.7891\n",
      "Epoch: 1/20... Training loss: 36212.3359\n",
      "Epoch: 1/20... Training loss: 36285.8516\n",
      "Epoch: 1/20... Training loss: 36536.1797\n",
      "Epoch: 1/20... Training loss: 36988.9766\n",
      "Epoch: 1/20... Training loss: 36892.2188\n",
      "Epoch: 1/20... Training loss: 36315.0859\n",
      "Epoch: 1/20... Training loss: 36781.7344\n",
      "Epoch: 1/20... Training loss: 36010.2539\n",
      "Epoch: 1/20... Training loss: 35583.7617\n",
      "Epoch: 1/20... Training loss: 36871.1641\n",
      "Epoch: 1/20... Training loss: 34856.0703\n",
      "Epoch: 1/20... Training loss: 35490.2422\n",
      "Epoch: 1/20... Training loss: 36271.9570\n",
      "Epoch: 1/20... Training loss: 36077.0195\n",
      "Epoch: 1/20... Training loss: 35018.5625\n",
      "Epoch: 1/20... Training loss: 36926.5938\n",
      "Epoch: 1/20... Training loss: 34994.2969\n",
      "Epoch: 1/20... Training loss: 35421.5703\n",
      "Epoch: 1/20... Training loss: 34222.0312\n",
      "Epoch: 1/20... Training loss: 34439.6133\n",
      "Epoch: 1/20... Training loss: 34600.5508\n",
      "Epoch: 1/20... Training loss: 35290.2500\n",
      "Epoch: 1/20... Training loss: 34054.9141\n",
      "Epoch: 1/20... Training loss: 34773.5156\n",
      "Epoch: 1/20... Training loss: 34820.8906\n",
      "Epoch: 1/20... Training loss: 34400.3086\n",
      "Epoch: 1/20... Training loss: 34873.3125\n",
      "Epoch: 1/20... Training loss: 33558.3672\n",
      "Epoch: 1/20... Training loss: 34897.7500\n",
      "Epoch: 1/20... Training loss: 34036.0078\n",
      "Epoch: 1/20... Training loss: 34195.6250\n",
      "Epoch: 1/20... Training loss: 33954.8359\n",
      "Epoch: 1/20... Training loss: 34938.0234\n",
      "Epoch: 1/20... Training loss: 34150.8672\n",
      "Epoch: 1/20... Training loss: 32751.5000\n",
      "Epoch: 1/20... Training loss: 33446.1406\n",
      "Epoch: 1/20... Training loss: 33001.6094\n",
      "Epoch: 1/20... Training loss: 33451.0273\n",
      "Epoch: 1/20... Training loss: 33317.1133\n",
      "Epoch: 1/20... Training loss: 33896.1016\n",
      "Epoch: 1/20... Training loss: 33533.5898\n",
      "Epoch: 1/20... Training loss: 33110.7031\n",
      "Epoch: 1/20... Training loss: 32813.7969\n",
      "Epoch: 1/20... Training loss: 33480.8984\n",
      "Epoch: 1/20... Training loss: 32436.1523\n",
      "Epoch: 1/20... Training loss: 33437.7109\n",
      "Epoch: 1/20... Training loss: 33238.2734\n",
      "Epoch: 1/20... Training loss: 33822.7969\n",
      "Epoch: 1/20... Training loss: 31563.2148\n",
      "Epoch: 1/20... Training loss: 32736.3203\n",
      "Epoch: 1/20... Training loss: 33231.2227\n",
      "Epoch: 1/20... Training loss: 32808.3516\n",
      "Epoch: 1/20... Training loss: 32343.0332\n",
      "Epoch: 1/20... Training loss: 31959.2109\n",
      "Epoch: 1/20... Training loss: 32519.2090\n",
      "Epoch: 1/20... Training loss: 31997.8008\n",
      "Epoch: 1/20... Training loss: 32159.2754\n",
      "Epoch: 1/20... Training loss: 31055.3125\n",
      "Epoch: 1/20... Training loss: 32123.6484\n",
      "Epoch: 1/20... Training loss: 33319.0938\n",
      "Epoch: 1/20... Training loss: 31619.2891\n",
      "Epoch: 1/20... Training loss: 31099.3281\n",
      "Epoch: 1/20... Training loss: 31667.9668\n",
      "Epoch: 1/20... Training loss: 31142.3555\n",
      "Epoch: 1/20... Training loss: 31549.9492\n",
      "Epoch: 1/20... Training loss: 31525.0820\n",
      "Epoch: 1/20... Training loss: 31287.0312\n",
      "Epoch: 1/20... Training loss: 32237.7227\n",
      "Epoch: 1/20... Training loss: 31322.7051\n",
      "Epoch: 1/20... Training loss: 30829.5312\n",
      "Epoch: 1/20... Training loss: 30403.0918\n",
      "Epoch: 1/20... Training loss: 31931.6680\n",
      "Epoch: 1/20... Training loss: 31146.0117\n"
     ]
    },
    {
     "name": "stdout",
     "output_type": "stream",
     "text": [
      "Epoch: 1/20... Training loss: 30396.0820\n",
      "Epoch: 1/20... Training loss: 30402.0859\n",
      "Epoch: 1/20... Training loss: 31948.5410\n",
      "Epoch: 1/20... Training loss: 31243.9141\n",
      "Epoch: 1/20... Training loss: 30636.2070\n",
      "Epoch: 1/20... Training loss: 30910.4141\n",
      "Epoch: 1/20... Training loss: 31620.7617\n",
      "Epoch: 1/20... Training loss: 31202.2539\n",
      "Epoch: 1/20... Training loss: 30794.8320\n",
      "Epoch: 1/20... Training loss: 31325.2344\n",
      "Epoch: 1/20... Training loss: 30332.4102\n",
      "Epoch: 1/20... Training loss: 30705.3379\n",
      "Epoch: 1/20... Training loss: 31131.1523\n",
      "Epoch: 1/20... Training loss: 30685.7656\n",
      "Epoch: 1/20... Training loss: 30783.7578\n",
      "Epoch: 1/20... Training loss: 30984.9023\n",
      "Epoch: 1/20... Training loss: 31016.2480\n",
      "Epoch: 1/20... Training loss: 30254.3848\n",
      "Epoch: 1/20... Training loss: 29509.3164\n",
      "Epoch: 1/20... Training loss: 31718.2090\n",
      "Epoch: 1/20... Training loss: 30676.6719\n",
      "Epoch: 1/20... Training loss: 30304.9590\n",
      "Epoch: 1/20... Training loss: 30623.9375\n",
      "Epoch: 1/20... Training loss: 30782.0918\n",
      "Epoch: 1/20... Training loss: 30996.0898\n",
      "Epoch: 1/20... Training loss: 30313.9062\n",
      "Epoch: 1/20... Training loss: 28972.8906\n",
      "Epoch: 1/20... Training loss: 29568.5371\n",
      "Epoch: 1/20... Training loss: 30115.6406\n",
      "Epoch: 1/20... Training loss: 31034.8047\n",
      "Epoch: 1/20... Training loss: 29657.3242\n",
      "Epoch: 1/20... Training loss: 29025.5430\n",
      "Epoch: 1/20... Training loss: 29676.3223\n",
      "Epoch: 1/20... Training loss: 29708.5742\n",
      "Epoch: 1/20... Training loss: 28494.1426\n",
      "Epoch: 1/20... Training loss: 30262.2656\n",
      "Epoch: 1/20... Training loss: 29537.2520\n",
      "Epoch: 1/20... Training loss: 29500.4004\n",
      "Epoch: 1/20... Training loss: 30238.1797\n",
      "Epoch: 1/20... Training loss: 29807.8652\n",
      "Epoch: 1/20... Training loss: 29246.6836\n",
      "Epoch: 1/20... Training loss: 28744.4785\n",
      "Epoch: 1/20... Training loss: 30153.5664\n",
      "Epoch: 1/20... Training loss: 29799.8750\n",
      "Epoch: 1/20... Training loss: 28855.4590\n",
      "Epoch: 1/20... Training loss: 30888.5254\n",
      "Epoch: 1/20... Training loss: 29444.6758\n",
      "Epoch: 1/20... Training loss: 29226.6699\n",
      "Epoch: 1/20... Training loss: 29240.8887\n",
      "Epoch: 1/20... Training loss: 28635.9844\n",
      "Epoch: 1/20... Training loss: 29318.5156\n",
      "Epoch: 1/20... Training loss: 29982.7422\n",
      "Epoch: 1/20... Training loss: 29996.0508\n",
      "Epoch: 1/20... Training loss: 30098.5430\n",
      "Epoch: 1/20... Training loss: 29088.7070\n",
      "Epoch: 1/20... Training loss: 29587.5664\n",
      "Epoch: 1/20... Training loss: 30101.3477\n",
      "Epoch: 1/20... Training loss: 30003.5215\n",
      "Epoch: 1/20... Training loss: 28959.9570\n",
      "Epoch: 1/20... Training loss: 28953.5586\n",
      "Epoch: 1/20... Training loss: 29998.8301\n",
      "Epoch: 1/20... Training loss: 29188.5273\n",
      "Epoch: 1/20... Training loss: 29539.9688\n",
      "Epoch: 1/20... Training loss: 29861.7227\n",
      "Epoch: 1/20... Training loss: 28750.8867\n",
      "Epoch: 1/20... Training loss: 28585.1211\n",
      "Epoch: 1/20... Training loss: 29045.6660\n",
      "Epoch: 1/20... Training loss: 29285.9121\n",
      "Epoch: 1/20... Training loss: 28014.0312\n",
      "Epoch: 1/20... Training loss: 28723.4121\n",
      "Epoch: 1/20... Training loss: 29361.2344\n",
      "Epoch: 1/20... Training loss: 29294.6289\n",
      "Epoch: 1/20... Training loss: 28840.4531\n",
      "Epoch: 1/20... Training loss: 29210.6797\n",
      "Epoch: 1/20... Training loss: 28762.1953\n",
      "Epoch: 1/20... Training loss: 29151.3086\n",
      "Epoch: 1/20... Training loss: 28419.2578\n",
      "Epoch: 1/20... Training loss: 28809.4453\n",
      "Epoch: 1/20... Training loss: 28551.4023\n",
      "Epoch: 1/20... Training loss: 28900.7227\n",
      "Epoch: 1/20... Training loss: 27949.1758\n",
      "Epoch: 1/20... Training loss: 28248.6660\n",
      "Epoch: 1/20... Training loss: 27954.1543\n",
      "Epoch: 1/20... Training loss: 28867.4844\n",
      "Epoch: 1/20... Training loss: 27650.8438\n",
      "Epoch: 1/20... Training loss: 27402.8711\n",
      "Epoch: 1/20... Training loss: 28638.3828\n",
      "Epoch: 1/20... Training loss: 28856.7109\n",
      "Epoch: 1/20... Training loss: 27119.2617\n",
      "Epoch: 1/20... Training loss: 28226.3477\n",
      "Epoch: 1/20... Training loss: 29521.3906\n",
      "Epoch: 1/20... Training loss: 27526.6289\n",
      "Epoch: 1/20... Training loss: 27403.4375\n",
      "Epoch: 1/20... Training loss: 26930.2852\n",
      "Epoch: 1/20... Training loss: 28024.0078\n",
      "Epoch: 1/20... Training loss: 28428.1602\n",
      "Epoch: 1/20... Training loss: 27682.9590\n",
      "Epoch: 2/20... Training loss: 28021.6426\n",
      "Epoch: 2/20... Training loss: 26351.8516\n",
      "Epoch: 2/20... Training loss: 28690.1172\n",
      "Epoch: 2/20... Training loss: 28104.8867\n",
      "Epoch: 2/20... Training loss: 27194.8965\n",
      "Epoch: 2/20... Training loss: 28064.6016\n",
      "Epoch: 2/20... Training loss: 28170.5078\n",
      "Epoch: 2/20... Training loss: 26752.4375\n",
      "Epoch: 2/20... Training loss: 27472.2891\n",
      "Epoch: 2/20... Training loss: 26893.4531\n",
      "Epoch: 2/20... Training loss: 27257.5020\n",
      "Epoch: 2/20... Training loss: 27024.9297\n",
      "Epoch: 2/20... Training loss: 28426.2363\n",
      "Epoch: 2/20... Training loss: 27976.7812\n",
      "Epoch: 2/20... Training loss: 27180.7930\n",
      "Epoch: 2/20... Training loss: 27189.0625\n",
      "Epoch: 2/20... Training loss: 27940.1016\n",
      "Epoch: 2/20... Training loss: 27825.4102\n",
      "Epoch: 2/20... Training loss: 26437.6211\n",
      "Epoch: 2/20... Training loss: 26973.9844\n",
      "Epoch: 2/20... Training loss: 25854.7461\n",
      "Epoch: 2/20... Training loss: 26883.3750\n",
      "Epoch: 2/20... Training loss: 27718.6309\n",
      "Epoch: 2/20... Training loss: 27014.4727\n",
      "Epoch: 2/20... Training loss: 27593.5391\n",
      "Epoch: 2/20... Training loss: 27112.7617\n",
      "Epoch: 2/20... Training loss: 27230.8633\n",
      "Epoch: 2/20... Training loss: 27286.5742\n",
      "Epoch: 2/20... Training loss: 26762.9648\n",
      "Epoch: 2/20... Training loss: 27572.2539\n",
      "Epoch: 2/20... Training loss: 27189.9609\n",
      "Epoch: 2/20... Training loss: 27346.7734\n",
      "Epoch: 2/20... Training loss: 26487.2812\n",
      "Epoch: 2/20... Training loss: 25617.5039\n",
      "Epoch: 2/20... Training loss: 27542.9980\n"
     ]
    },
    {
     "ename": "KeyboardInterrupt",
     "evalue": "",
     "output_type": "error",
     "traceback": [
      "\u001b[1;31m---------------------------------------------------------------------------\u001b[0m",
      "\u001b[1;31mKeyboardInterrupt\u001b[0m                         Traceback (most recent call last)",
      "\u001b[1;32m<ipython-input-26-045a52fc54cc>\u001b[0m in \u001b[0;36m<module>\u001b[1;34m()\u001b[0m\n\u001b[0;32m      6\u001b[0m         \u001b[0mbatch\u001b[0m \u001b[1;33m=\u001b[0m \u001b[0mmnist\u001b[0m\u001b[1;33m.\u001b[0m\u001b[0mtrain\u001b[0m\u001b[1;33m.\u001b[0m\u001b[0mnext_batch\u001b[0m\u001b[1;33m(\u001b[0m\u001b[0mbatch_size\u001b[0m\u001b[1;33m)\u001b[0m\u001b[1;33m\u001b[0m\u001b[0m\n\u001b[0;32m      7\u001b[0m         \u001b[0mfeed\u001b[0m \u001b[1;33m=\u001b[0m \u001b[1;33m{\u001b[0m\u001b[0minputs_\u001b[0m\u001b[1;33m:\u001b[0m \u001b[0mbatch\u001b[0m\u001b[1;33m[\u001b[0m\u001b[1;36m0\u001b[0m\u001b[1;33m]\u001b[0m\u001b[1;33m,\u001b[0m \u001b[0mtargets_\u001b[0m\u001b[1;33m:\u001b[0m \u001b[0mbatch\u001b[0m\u001b[1;33m[\u001b[0m\u001b[1;36m0\u001b[0m\u001b[1;33m]\u001b[0m\u001b[1;33m}\u001b[0m\u001b[1;33m\u001b[0m\u001b[0m\n\u001b[1;32m----> 8\u001b[1;33m         \u001b[0mbatch_cost\u001b[0m\u001b[1;33m,\u001b[0m \u001b[0m_\u001b[0m \u001b[1;33m=\u001b[0m \u001b[0msess\u001b[0m\u001b[1;33m.\u001b[0m\u001b[0mrun\u001b[0m\u001b[1;33m(\u001b[0m\u001b[1;33m[\u001b[0m\u001b[0mcost\u001b[0m\u001b[1;33m,\u001b[0m \u001b[0mopt\u001b[0m\u001b[1;33m]\u001b[0m\u001b[1;33m,\u001b[0m \u001b[0mfeed_dict\u001b[0m\u001b[1;33m=\u001b[0m\u001b[0mfeed\u001b[0m\u001b[1;33m)\u001b[0m\u001b[1;33m\u001b[0m\u001b[0m\n\u001b[0m\u001b[0;32m      9\u001b[0m \u001b[1;33m\u001b[0m\u001b[0m\n\u001b[0;32m     10\u001b[0m         print(\"Epoch: {}/{}...\".format(e+1, epochs),\n",
      "\u001b[1;32mE:\\Anaconda3\\envs\\tensorflow\\lib\\site-packages\\tensorflow\\python\\client\\session.py\u001b[0m in \u001b[0;36mrun\u001b[1;34m(self, fetches, feed_dict, options, run_metadata)\u001b[0m\n\u001b[0;32m    893\u001b[0m     \u001b[1;32mtry\u001b[0m\u001b[1;33m:\u001b[0m\u001b[1;33m\u001b[0m\u001b[0m\n\u001b[0;32m    894\u001b[0m       result = self._run(None, fetches, feed_dict, options_ptr,\n\u001b[1;32m--> 895\u001b[1;33m                          run_metadata_ptr)\n\u001b[0m\u001b[0;32m    896\u001b[0m       \u001b[1;32mif\u001b[0m \u001b[0mrun_metadata\u001b[0m\u001b[1;33m:\u001b[0m\u001b[1;33m\u001b[0m\u001b[0m\n\u001b[0;32m    897\u001b[0m         \u001b[0mproto_data\u001b[0m \u001b[1;33m=\u001b[0m \u001b[0mtf_session\u001b[0m\u001b[1;33m.\u001b[0m\u001b[0mTF_GetBuffer\u001b[0m\u001b[1;33m(\u001b[0m\u001b[0mrun_metadata_ptr\u001b[0m\u001b[1;33m)\u001b[0m\u001b[1;33m\u001b[0m\u001b[0m\n",
      "\u001b[1;32mE:\\Anaconda3\\envs\\tensorflow\\lib\\site-packages\\tensorflow\\python\\client\\session.py\u001b[0m in \u001b[0;36m_run\u001b[1;34m(self, handle, fetches, feed_dict, options, run_metadata)\u001b[0m\n\u001b[0;32m   1122\u001b[0m     \u001b[1;32mif\u001b[0m \u001b[0mfinal_fetches\u001b[0m \u001b[1;32mor\u001b[0m \u001b[0mfinal_targets\u001b[0m \u001b[1;32mor\u001b[0m \u001b[1;33m(\u001b[0m\u001b[0mhandle\u001b[0m \u001b[1;32mand\u001b[0m \u001b[0mfeed_dict_tensor\u001b[0m\u001b[1;33m)\u001b[0m\u001b[1;33m:\u001b[0m\u001b[1;33m\u001b[0m\u001b[0m\n\u001b[0;32m   1123\u001b[0m       results = self._do_run(handle, final_targets, final_fetches,\n\u001b[1;32m-> 1124\u001b[1;33m                              feed_dict_tensor, options, run_metadata)\n\u001b[0m\u001b[0;32m   1125\u001b[0m     \u001b[1;32melse\u001b[0m\u001b[1;33m:\u001b[0m\u001b[1;33m\u001b[0m\u001b[0m\n\u001b[0;32m   1126\u001b[0m       \u001b[0mresults\u001b[0m \u001b[1;33m=\u001b[0m \u001b[1;33m[\u001b[0m\u001b[1;33m]\u001b[0m\u001b[1;33m\u001b[0m\u001b[0m\n",
      "\u001b[1;32mE:\\Anaconda3\\envs\\tensorflow\\lib\\site-packages\\tensorflow\\python\\client\\session.py\u001b[0m in \u001b[0;36m_do_run\u001b[1;34m(self, handle, target_list, fetch_list, feed_dict, options, run_metadata)\u001b[0m\n\u001b[0;32m   1319\u001b[0m     \u001b[1;32mif\u001b[0m \u001b[0mhandle\u001b[0m \u001b[1;32mis\u001b[0m \u001b[1;32mNone\u001b[0m\u001b[1;33m:\u001b[0m\u001b[1;33m\u001b[0m\u001b[0m\n\u001b[0;32m   1320\u001b[0m       return self._do_call(_run_fn, self._session, feeds, fetches, targets,\n\u001b[1;32m-> 1321\u001b[1;33m                            options, run_metadata)\n\u001b[0m\u001b[0;32m   1322\u001b[0m     \u001b[1;32melse\u001b[0m\u001b[1;33m:\u001b[0m\u001b[1;33m\u001b[0m\u001b[0m\n\u001b[0;32m   1323\u001b[0m       \u001b[1;32mreturn\u001b[0m \u001b[0mself\u001b[0m\u001b[1;33m.\u001b[0m\u001b[0m_do_call\u001b[0m\u001b[1;33m(\u001b[0m\u001b[0m_prun_fn\u001b[0m\u001b[1;33m,\u001b[0m \u001b[0mself\u001b[0m\u001b[1;33m.\u001b[0m\u001b[0m_session\u001b[0m\u001b[1;33m,\u001b[0m \u001b[0mhandle\u001b[0m\u001b[1;33m,\u001b[0m \u001b[0mfeeds\u001b[0m\u001b[1;33m,\u001b[0m \u001b[0mfetches\u001b[0m\u001b[1;33m)\u001b[0m\u001b[1;33m\u001b[0m\u001b[0m\n",
      "\u001b[1;32mE:\\Anaconda3\\envs\\tensorflow\\lib\\site-packages\\tensorflow\\python\\client\\session.py\u001b[0m in \u001b[0;36m_do_call\u001b[1;34m(self, fn, *args)\u001b[0m\n\u001b[0;32m   1325\u001b[0m   \u001b[1;32mdef\u001b[0m \u001b[0m_do_call\u001b[0m\u001b[1;33m(\u001b[0m\u001b[0mself\u001b[0m\u001b[1;33m,\u001b[0m \u001b[0mfn\u001b[0m\u001b[1;33m,\u001b[0m \u001b[1;33m*\u001b[0m\u001b[0margs\u001b[0m\u001b[1;33m)\u001b[0m\u001b[1;33m:\u001b[0m\u001b[1;33m\u001b[0m\u001b[0m\n\u001b[0;32m   1326\u001b[0m     \u001b[1;32mtry\u001b[0m\u001b[1;33m:\u001b[0m\u001b[1;33m\u001b[0m\u001b[0m\n\u001b[1;32m-> 1327\u001b[1;33m       \u001b[1;32mreturn\u001b[0m \u001b[0mfn\u001b[0m\u001b[1;33m(\u001b[0m\u001b[1;33m*\u001b[0m\u001b[0margs\u001b[0m\u001b[1;33m)\u001b[0m\u001b[1;33m\u001b[0m\u001b[0m\n\u001b[0m\u001b[0;32m   1328\u001b[0m     \u001b[1;32mexcept\u001b[0m \u001b[0merrors\u001b[0m\u001b[1;33m.\u001b[0m\u001b[0mOpError\u001b[0m \u001b[1;32mas\u001b[0m \u001b[0me\u001b[0m\u001b[1;33m:\u001b[0m\u001b[1;33m\u001b[0m\u001b[0m\n\u001b[0;32m   1329\u001b[0m       \u001b[0mmessage\u001b[0m \u001b[1;33m=\u001b[0m \u001b[0mcompat\u001b[0m\u001b[1;33m.\u001b[0m\u001b[0mas_text\u001b[0m\u001b[1;33m(\u001b[0m\u001b[0me\u001b[0m\u001b[1;33m.\u001b[0m\u001b[0mmessage\u001b[0m\u001b[1;33m)\u001b[0m\u001b[1;33m\u001b[0m\u001b[0m\n",
      "\u001b[1;32mE:\\Anaconda3\\envs\\tensorflow\\lib\\site-packages\\tensorflow\\python\\client\\session.py\u001b[0m in \u001b[0;36m_run_fn\u001b[1;34m(session, feed_dict, fetch_list, target_list, options, run_metadata)\u001b[0m\n\u001b[0;32m   1304\u001b[0m           return tf_session.TF_Run(session, options,\n\u001b[0;32m   1305\u001b[0m                                    \u001b[0mfeed_dict\u001b[0m\u001b[1;33m,\u001b[0m \u001b[0mfetch_list\u001b[0m\u001b[1;33m,\u001b[0m \u001b[0mtarget_list\u001b[0m\u001b[1;33m,\u001b[0m\u001b[1;33m\u001b[0m\u001b[0m\n\u001b[1;32m-> 1306\u001b[1;33m                                    status, run_metadata)\n\u001b[0m\u001b[0;32m   1307\u001b[0m \u001b[1;33m\u001b[0m\u001b[0m\n\u001b[0;32m   1308\u001b[0m     \u001b[1;32mdef\u001b[0m \u001b[0m_prun_fn\u001b[0m\u001b[1;33m(\u001b[0m\u001b[0msession\u001b[0m\u001b[1;33m,\u001b[0m \u001b[0mhandle\u001b[0m\u001b[1;33m,\u001b[0m \u001b[0mfeed_dict\u001b[0m\u001b[1;33m,\u001b[0m \u001b[0mfetch_list\u001b[0m\u001b[1;33m)\u001b[0m\u001b[1;33m:\u001b[0m\u001b[1;33m\u001b[0m\u001b[0m\n",
      "\u001b[1;31mKeyboardInterrupt\u001b[0m: "
     ]
    }
   ],
   "source": [
    "epochs = 20\n",
    "batch_size = 200\n",
    "sess.run(tf.global_variables_initializer())\n",
    "for e in range(epochs):\n",
    "    for ii in range(mnist.train.num_examples//batch_size):\n",
    "        batch = mnist.train.next_batch(batch_size)\n",
    "        feed = {inputs_: batch[0], targets_: batch[0]}\n",
    "        batch_cost, _ = sess.run([cost, opt], feed_dict=feed)\n",
    "\n",
    "        print(\"Epoch: {}/{}...\".format(e+1, epochs),\n",
    "              \"Training loss: {:.4f}\".format(batch_cost))"
   ]
  },
  {
   "cell_type": "markdown",
   "metadata": {},
   "source": [
    "## Checking out the results\n",
    "\n",
    "Below I've plotted some of the test images along with their reconstructions. For the most part these look pretty good except for some blurriness in some parts."
   ]
  },
  {
   "cell_type": "code",
   "execution_count": 17,
   "metadata": {},
   "outputs": [
    {
     "data": {
      "image/png": "[encoded data removed]",
      "text/plain": [
       "<matplotlib.figure.Figure at 0x272e28bd048>"
      ]
     },
     "metadata": {},
     "output_type": "display_data"
    }
   ],
   "source": [
    "fig, axes = plt.subplots(nrows=2, ncols=10, sharex=True, sharey=True, figsize=(20,4))\n",
    "in_imgs = mnist.test.images[:10]\n",
    "reconstructed, compressed = sess.run([decoded, encoded], feed_dict={inputs_: in_imgs})\n",
    "\n",
    "for images, row in zip([in_imgs, reconstructed], axes):\n",
    "    for img, ax in zip(images, row):\n",
    "        ax.imshow(img.reshape((28, 28)), cmap='Greys_r')\n",
    "        ax.get_xaxis().set_visible(False)\n",
    "        ax.get_yaxis().set_visible(False)\n",
    "\n",
    "fig.tight_layout(pad=0.1)"
   ]
  },
  {
   "cell_type": "code",
   "execution_count": 9,
   "metadata": {
    "collapsed": true
   },
   "outputs": [],
   "source": [
    "sess.close()"
   ]
  },
  {
   "cell_type": "markdown",
   "metadata": {
    "collapsed": true
   },
   "source": [
    "## Up Next\n",
    "\n",
    "We're dealing with images here, so we can (usually) get better performance using convolution layers. So, next we'll build a better autoencoder with convolutional layers.\n",
    "\n",
    "In practice, autoencoders aren't actually better at compression compared to typical methods like JPEGs and MP3s. But, they are being used for noise reduction, which you'll also build."
   ]
  }
 ],
 "metadata": {
  "kernelspec": {
   "display_name": "Python 3",
   "language": "python",
   "name": "python3"
  },
  "language_info": {
   "codemirror_mode": {
    "name": "ipython",
    "version": 3
   },
   "file_extension": ".py",
   "mimetype": "text/x-python",
   "name": "python",
   "nbconvert_exporter": "python",
   "pygments_lexer": "ipython3",
   "version": "3.6.2"
  }
 },
 "nbformat": 4,
 "nbformat_minor": 2
}
