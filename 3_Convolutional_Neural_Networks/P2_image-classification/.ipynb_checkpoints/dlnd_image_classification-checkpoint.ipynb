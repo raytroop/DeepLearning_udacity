{
 "cells": [
  {
   "cell_type": "markdown",
   "metadata": {
    "collapsed": true
   },
   "source": [
    "# Image Classification\n",
    "In this project, you'll classify images from the [CIFAR-10 dataset](https://www.cs.toronto.edu/~kriz/cifar.html).  The dataset consists of airplanes, dogs, cats, and other objects. You'll preprocess the images, then train a convolutional neural network on all the samples. The images need to be normalized and the labels need to be one-hot encoded.  You'll get to apply what you learned and build a convolutional, max pooling, dropout, and fully connected layers.  At the end, you'll get to see your neural network's predictions on the sample images.\n",
    "## Get the Data\n",
    "Run the following cell to download the [CIFAR-10 dataset for python](https://www.cs.toronto.edu/~kriz/cifar-10-python.tar.gz)."
   ]
  },
  {
   "cell_type": "code",
   "execution_count": 1,
   "metadata": {},
   "outputs": [
    {
     "name": "stdout",
     "output_type": "stream",
     "text": [
      "All files found!\n"
     ]
    }
   ],
   "source": [
    "\"\"\"\n",
    "DON'T MODIFY ANYTHING IN THIS CELL THAT IS BELOW THIS LINE\n",
    "\"\"\"\n",
    "from urllib.request import urlretrieve\n",
    "from os.path import isfile, isdir\n",
    "from tqdm import tqdm\n",
    "import problem_unittests as tests\n",
    "import tarfile\n",
    "\n",
    "cifar10_dataset_folder_path = 'cifar-10-batches-py'\n",
    "\n",
    "# Use Floyd's cifar-10 dataset if present\n",
    "floyd_cifar10_location = '/cifar/cifar-10-python.tar.gz'\n",
    "if isfile(floyd_cifar10_location):\n",
    "    tar_gz_path = floyd_cifar10_location\n",
    "else:\n",
    "    tar_gz_path = 'cifar-10-python.tar.gz'\n",
    "\n",
    "class DLProgress(tqdm):\n",
    "    last_block = 0\n",
    "\n",
    "    def hook(self, block_num=1, block_size=1, total_size=None):\n",
    "        self.total = total_size\n",
    "        self.update((block_num - self.last_block) * block_size)\n",
    "        self.last_block = block_num\n",
    "\n",
    "if not isfile(tar_gz_path):\n",
    "    with DLProgress(unit='B', unit_scale=True, miniters=1, desc='CIFAR-10 Dataset') as pbar:\n",
    "        urlretrieve(\n",
    "            'https://www.cs.toronto.edu/~kriz/cifar-10-python.tar.gz',\n",
    "            tar_gz_path,\n",
    "            pbar.hook)\n",
    "\n",
    "if not isdir(cifar10_dataset_folder_path):\n",
    "    with tarfile.open(tar_gz_path) as tar:\n",
    "        tar.extractall()\n",
    "        tar.close()\n",
    "\n",
    "\n",
    "tests.test_folder_path(cifar10_dataset_folder_path)"
   ]
  },
  {
   "cell_type": "markdown",
   "metadata": {},
   "source": [
    "## Explore the Data\n",
    "The dataset is broken into batches to prevent your machine from running out of memory.  The CIFAR-10 dataset consists of 5 batches, named `data_batch_1`, `data_batch_2`, etc.. Each batch contains the labels and images that are one of the following:\n",
    "* airplane\n",
    "* automobile\n",
    "* bird\n",
    "* cat\n",
    "* deer\n",
    "* dog\n",
    "* frog\n",
    "* horse\n",
    "* ship\n",
    "* truck\n",
    "\n",
    "Understanding a dataset is part of making predictions on the data.  Play around with the code cell below by changing the `batch_id` and `sample_id`. The `batch_id` is the id for a batch (1-5). The `sample_id` is the id for a image and label pair in the batch.\n",
    "\n",
    "Ask yourself \"What are all possible labels?\", \"What is the range of values for the image data?\", \"Are the labels in order or random?\".  Answers to questions like these will help you preprocess the data and end up with better predictions."
   ]
  },
  {
   "cell_type": "code",
   "execution_count": 2,
   "metadata": {},
   "outputs": [
    {
     "name": "stdout",
     "output_type": "stream",
     "text": [
      "\n",
      "Stats of batch 5:\n",
      "Samples: 10000\n",
      "Label Counts: {0: 1014, 1: 1014, 2: 952, 3: 1016, 4: 997, 5: 1025, 6: 980, 7: 977, 8: 1003, 9: 1022}\n",
      "First 20 Labels: [1, 8, 5, 1, 5, 7, 4, 3, 8, 2, 7, 2, 0, 1, 5, 9, 6, 2, 0, 8]\n",
      "\n",
      "Example of Image 8:\n",
      "Image - Min Value: 0 Max Value: 247\n",
      "Image - Shape: (32, 32, 3)\n",
      "Label - Label Id: 8 Name: ship\n"
     ]
    },
    {
     "data": {
      "image/png": "[encoded data removed]",
      "text/plain": [
       "<matplotlib.figure.Figure at 0x10654f58c50>"
      ]
     },
     "metadata": {
      "image/png": {
       "height": 250,
       "width": 253
      }
     },
     "output_type": "display_data"
    }
   ],
   "source": [
    "%matplotlib inline\n",
    "%config InlineBackend.figure_format = 'retina'\n",
    "\n",
    "import helper\n",
    "import numpy as np\n",
    "\n",
    "# Explore the dataset\n",
    "batch_id = 5\n",
    "sample_id = 8\n",
    "helper.display_stats(cifar10_dataset_folder_path, batch_id, sample_id)"
   ]
  },
  {
   "cell_type": "markdown",
   "metadata": {},
   "source": [
    "## Implement Preprocess Functions\n",
    "### Normalize\n",
    "In the cell below, implement the `normalize` function to take in image data, `x`, and return it as a normalized Numpy array. The values should be in the range of 0 to 1, inclusive.  The return object should be the same shape as `x`."
   ]
  },
  {
   "cell_type": "code",
   "execution_count": 3,
   "metadata": {},
   "outputs": [
    {
     "name": "stdout",
     "output_type": "stream",
     "text": [
      "Tests Passed\n"
     ]
    }
   ],
   "source": [
    "def normalize(x):\n",
    "    \"\"\"\n",
    "    Normalize a list of sample image data in the range of 0 to 1\n",
    "    : x: List of image data.  The image shape is (32, 32, 3)\n",
    "    : return: Numpy array of normalize data\n",
    "    \"\"\"\n",
    "    # TODO: Implement Function\n",
    "    x = np.array(x)\n",
    "    x_min = np.min(x)\n",
    "    x_max = np.max(x)\n",
    "    x = (x - x_min)/(x_max -  x_min)\n",
    "    return x\n",
    "\n",
    "\n",
    "\"\"\"\n",
    "DON'T MODIFY ANYTHING IN THIS CELL THAT IS BELOW THIS LINE\n",
    "\"\"\"\n",
    "tests.test_normalize(normalize)"
   ]
  },
  {
   "cell_type": "markdown",
   "metadata": {},
   "source": [
    "### One-hot encode\n",
    "Just like the previous code cell, you'll be implementing a function for preprocessing.  This time, you'll implement the `one_hot_encode` function. The input, `x`, are a list of labels.  Implement the function to return the list of labels as One-Hot encoded Numpy array.  The possible values for labels are 0 to 9. The one-hot encoding function should return the same encoding for each value between each call to `one_hot_encode`.  Make sure to save the map of encodings outside the function.\n",
    "\n",
    "Hint: Don't reinvent the wheel."
   ]
  },
  {
   "cell_type": "code",
   "execution_count": 4,
   "metadata": {},
   "outputs": [
    {
     "name": "stdout",
     "output_type": "stream",
     "text": [
      "Tests Passed\n"
     ]
    }
   ],
   "source": [
    "def one_hot_encode(x):\n",
    "    \"\"\"\n",
    "    One hot encode a list of sample labels. Return a one-hot encoded vector for each label.\n",
    "    : x: List of sample Labels\n",
    "    : return: Numpy array of one-hot encoded labels\n",
    "    \"\"\"\n",
    "    # TODO: Implement Function\n",
    "    nb_classes = 10\n",
    "    targets = np.array(x).reshape(-1)\n",
    "    one_hot_targets = np.eye(nb_classes)[targets]   \n",
    "    return one_hot_targets\n",
    "\n",
    "\n",
    "\"\"\"\n",
    "DON'T MODIFY ANYTHING IN THIS CELL THAT IS BELOW THIS LINE\n",
    "\"\"\"\n",
    "tests.test_one_hot_encode(one_hot_encode)"
   ]
  },
  {
   "cell_type": "markdown",
   "metadata": {},
   "source": [
    "### Randomize Data\n",
    "As you saw from exploring the data above, the order of the samples are randomized.  It doesn't hurt to randomize it again, but you don't need to for this dataset."
   ]
  },
  {
   "cell_type": "markdown",
   "metadata": {},
   "source": [
    "## Preprocess all the data and save it\n",
    "Running the code cell below will preprocess all the CIFAR-10 data and save it to file. The code below also uses 10% of the training data for validation."
   ]
  },
  {
   "cell_type": "code",
   "execution_count": 5,
   "metadata": {
    "collapsed": true
   },
   "outputs": [],
   "source": [
    "\"\"\"\n",
    "DON'T MODIFY ANYTHING IN THIS CELL\n",
    "\"\"\"\n",
    "# Preprocess Training, Validation, and Testing Data\n",
    "helper.preprocess_and_save_data(cifar10_dataset_folder_path, normalize, one_hot_encode)"
   ]
  },
  {
   "cell_type": "markdown",
   "metadata": {},
   "source": [
    "# Check Point\n",
    "This is your first checkpoint.  If you ever decide to come back to this notebook or have to restart the notebook, you can start from here.  The preprocessed data has been saved to disk."
   ]
  },
  {
   "cell_type": "code",
   "execution_count": 6,
   "metadata": {
    "collapsed": true
   },
   "outputs": [],
   "source": [
    "\"\"\"\n",
    "DON'T MODIFY ANYTHING IN THIS CELL\n",
    "\"\"\"\n",
    "import pickle\n",
    "import problem_unittests as tests\n",
    "import helper\n",
    "\n",
    "# Load the Preprocessed Validation data\n",
    "valid_features, valid_labels = pickle.load(open('preprocess_validation.p', mode='rb'))"
   ]
  },
  {
   "cell_type": "code",
   "execution_count": 7,
   "metadata": {},
   "outputs": [
    {
     "data": {
      "text/plain": [
       "(5000, 32, 32, 3)"
      ]
     },
     "execution_count": 7,
     "metadata": {},
     "output_type": "execute_result"
    }
   ],
   "source": [
    "valid_features.shape"
   ]
  },
  {
   "cell_type": "code",
   "execution_count": 8,
   "metadata": {
    "collapsed": true
   },
   "outputs": [],
   "source": [
    "import matplotlib.pyplot as plt"
   ]
  },
  {
   "cell_type": "code",
   "execution_count": 9,
   "metadata": {},
   "outputs": [
    {
     "data": {
      "text/plain": [
       "<matplotlib.image.AxesImage at 0x106000388d0>"
      ]
     },
     "execution_count": 9,
     "metadata": {},
     "output_type": "execute_result"
    },
    {
     "data": {
      "image/png": "[encoded data removed]",
      "text/plain": [
       "<matplotlib.figure.Figure at 0x10657f1a6d8>"
      ]
     },
     "metadata": {
      "image/png": {
       "height": 250,
       "width": 253
      }
     },
     "output_type": "display_data"
    }
   ],
   "source": [
    "plt.imshow(valid_features[6])"
   ]
  },
  {
   "cell_type": "code",
   "execution_count": 10,
   "metadata": {},
   "outputs": [
    {
     "data": {
      "text/plain": [
       "(5000, 10)"
      ]
     },
     "execution_count": 10,
     "metadata": {},
     "output_type": "execute_result"
    }
   ],
   "source": [
    "valid_labels.shape"
   ]
  },
  {
   "cell_type": "code",
   "execution_count": 11,
   "metadata": {},
   "outputs": [
    {
     "data": {
      "text/plain": [
       "array([[ 0.,  0.,  0.,  0.,  1.,  0.,  0.,  0.,  0.,  0.],\n",
       "       [ 0.,  0.,  1.,  0.,  0.,  0.,  0.,  0.,  0.,  0.],\n",
       "       [ 0.,  0.,  1.,  0.,  0.,  0.,  0.,  0.,  0.,  0.],\n",
       "       [ 0.,  0.,  0.,  0.,  0.,  0.,  0.,  0.,  0.,  1.],\n",
       "       [ 1.,  0.,  0.,  0.,  0.,  0.,  0.,  0.,  0.,  0.],\n",
       "       [ 0.,  0.,  0.,  1.,  0.,  0.,  0.,  0.,  0.,  0.],\n",
       "       [ 0.,  0.,  0.,  1.,  0.,  0.,  0.,  0.,  0.,  0.],\n",
       "       [ 0.,  1.,  0.,  0.,  0.,  0.,  0.,  0.,  0.,  0.],\n",
       "       [ 0.,  0.,  0.,  1.,  0.,  0.,  0.,  0.,  0.,  0.]])"
      ]
     },
     "execution_count": 11,
     "metadata": {},
     "output_type": "execute_result"
    }
   ],
   "source": [
    "valid_labels[:9]"
   ]
  },
  {
   "cell_type": "markdown",
   "metadata": {},
   "source": [
    "## Build the network\n",
    "For the neural network, you'll build each layer into a function.  Most of the code you've seen has been outside of functions. To test your code more thoroughly, we require that you put each layer in a function.  This allows us to give you better feedback and test for simple mistakes using our unittests before you submit your project.\n",
    "\n",
    ">**Note:** If you're finding it hard to dedicate enough time for this course each week, we've provided a small shortcut to this part of the project. In the next couple of problems, you'll have the option to use classes from the [TensorFlow Layers](https://www.tensorflow.org/api_docs/python/tf/layers) or [TensorFlow Layers (contrib)](https://www.tensorflow.org/api_guides/python/contrib.layers) packages to build each layer, except the layers you build in the \"Convolutional and Max Pooling Layer\" section.  TF Layers is similar to Keras's and TFLearn's abstraction to layers, so it's easy to pickup.\n",
    "\n",
    ">However, if you would like to get the most out of this course, try to solve all the problems _without_ using anything from the TF Layers packages. You **can** still use classes from other packages that happen to have the same name as ones you find in TF Layers! For example, instead of using the TF Layers version of the `conv2d` class, [tf.layers.conv2d](https://www.tensorflow.org/api_docs/python/tf/layers/conv2d), you would want to use the TF Neural Network version of `conv2d`, [tf.nn.conv2d](https://www.tensorflow.org/api_docs/python/tf/nn/conv2d). \n",
    "\n",
    "Let's begin!\n",
    "\n",
    "### Input\n",
    "The neural network needs to read the image data, one-hot encoded labels, and dropout keep probability. Implement the following functions\n",
    "* Implement `neural_net_image_input`\n",
    " * Return a [TF Placeholder](https://www.tensorflow.org/api_docs/python/tf/placeholder)\n",
    " * Set the shape using `image_shape` with batch size set to `None`.\n",
    " * Name the TensorFlow placeholder \"x\" using the TensorFlow `name` parameter in the [TF Placeholder](https://www.tensorflow.org/api_docs/python/tf/placeholder).\n",
    "* Implement `neural_net_label_input`\n",
    " * Return a [TF Placeholder](https://www.tensorflow.org/api_docs/python/tf/placeholder)\n",
    " * Set the shape using `n_classes` with batch size set to `None`.\n",
    " * Name the TensorFlow placeholder \"y\" using the TensorFlow `name` parameter in the [TF Placeholder](https://www.tensorflow.org/api_docs/python/tf/placeholder).\n",
    "* Implement `neural_net_keep_prob_input`\n",
    " * Return a [TF Placeholder](https://www.tensorflow.org/api_docs/python/tf/placeholder) for dropout keep probability.\n",
    " * Name the TensorFlow placeholder \"keep_prob\" using the TensorFlow `name` parameter in the [TF Placeholder](https://www.tensorflow.org/api_docs/python/tf/placeholder).\n",
    "\n",
    "These names will be used at the end of the project to load your saved model.\n",
    "\n",
    "Note: `None` for shapes in TensorFlow allow for a dynamic size."
   ]
  },
  {
   "cell_type": "code",
   "execution_count": 12,
   "metadata": {},
   "outputs": [
    {
     "name": "stdout",
     "output_type": "stream",
     "text": [
      "Image Input Tests Passed.\n",
      "Label Input Tests Passed.\n",
      "Keep Prob Tests Passed.\n"
     ]
    }
   ],
   "source": [
    "import tensorflow as tf\n",
    "\n",
    "def neural_net_image_input(image_shape):\n",
    "    \"\"\"\n",
    "    Return a Tensor for a batch of image input\n",
    "    : image_shape: Shape of the images\n",
    "    : return: Tensor for image input.\n",
    "    \"\"\"\n",
    "    # TODO: Implement Function\n",
    "    x = tf.placeholder(dtype= tf.float32, shape=[None, image_shape[0], image_shape[1], image_shape[2]], name='x')\n",
    "    return x\n",
    "\n",
    "\n",
    "def neural_net_label_input(n_classes):\n",
    "    \"\"\"\n",
    "    Return a Tensor for a batch of label input\n",
    "    : n_classes: Number of classes\n",
    "    : return: Tensor for label input.\n",
    "    \"\"\"\n",
    "    # TODO: Implement Function\n",
    "    y = tf.placeholder(dtype= tf.float32, shape=[None, n_classes], name='y')\n",
    "    return y\n",
    "\n",
    "\n",
    "def neural_net_keep_prob_input():\n",
    "    \"\"\"\n",
    "    Return a Tensor for keep probability\n",
    "    : return: Tensor for keep probability.\n",
    "    \"\"\"\n",
    "    # TODO: Implement Function\n",
    "    keep_prob = tf.placeholder(dtype= tf.float32, name='keep_prob')\n",
    "    return keep_prob\n",
    "\n",
    "\"\"\"\n",
    "DON'T MODIFY ANYTHING IN THIS CELL THAT IS BELOW THIS LINE\n",
    "\"\"\"\n",
    "tf.reset_default_graph()\n",
    "tests.test_nn_image_inputs(neural_net_image_input)\n",
    "tests.test_nn_label_inputs(neural_net_label_input)\n",
    "tests.test_nn_keep_prob_inputs(neural_net_keep_prob_input)"
   ]
  },
  {
   "cell_type": "markdown",
   "metadata": {},
   "source": [
    "### Convolution and Max Pooling Layer\n",
    "Convolution layers have a lot of success with images. For this code cell, you should implement the function `conv2d_maxpool` to apply convolution then max pooling:\n",
    "* Create the weight and bias using `conv_ksize`, `conv_num_outputs` and the shape of `x_tensor`.\n",
    "* Apply a convolution to `x_tensor` using weight and `conv_strides`.\n",
    " * We recommend you use same padding, but you're welcome to use any padding.\n",
    "* Add bias\n",
    "* Add a nonlinear activation to the convolution.\n",
    "* Apply Max Pooling using `pool_ksize` and `pool_strides`.\n",
    " * We recommend you use same padding, but you're welcome to use any padding.\n",
    "\n",
    "**Note:** You **can't** use [TensorFlow Layers](https://www.tensorflow.org/api_docs/python/tf/layers) or [TensorFlow Layers (contrib)](https://www.tensorflow.org/api_guides/python/contrib.layers) for **this** layer, but you can still use TensorFlow's [Neural Network](https://www.tensorflow.org/api_docs/python/tf/nn) package. You may still use the shortcut option for all the **other** layers."
   ]
  },
  {
   "cell_type": "code",
   "execution_count": 29,
   "metadata": {},
   "outputs": [
    {
     "name": "stdout",
     "output_type": "stream",
     "text": [
      "Tests Passed\n"
     ]
    }
   ],
   "source": [
    "def conv2d_maxpool(x_tensor, conv_num_outputs, conv_ksize, conv_strides, pool_ksize, pool_strides):\n",
    "    \"\"\"\n",
    "    Apply convolution then max pooling to x_tensor\n",
    "    :param x_tensor: TensorFlow Tensor\n",
    "    :param conv_num_outputs: Number of outputs for the convolutional layer\n",
    "    :param conv_ksize: kernal size 2-D Tuple for the convolutional layer\n",
    "    :param conv_strides: Stride 2-D Tuple for convolution\n",
    "    :param pool_ksize: kernal size 2-D Tuple for pool\n",
    "    :param pool_strides: Stride 2-D Tuple for pool\n",
    "    : return: A tensor that represents convolution and max pooling of x_tensor\n",
    "    \"\"\"\n",
    "    # TODO: Implement Function\n",
    "    weight = tf.Variable(tf.truncated_normal([conv_ksize[0], conv_ksize[1], x_tensor.get_shape().as_list()[-1], conv_num_outputs], stddev= 0.1))\n",
    "    bias = tf.Variable(tf.zeros([conv_num_outputs]))\n",
    "    x = tf.nn.conv2d(x_tensor, weight, strides= [1, conv_strides[0], conv_strides[1], 1], padding = 'SAME')\n",
    "    x = tf.nn.bias_add(x, bias)\n",
    "    x = tf.nn.relu(x)\n",
    "    x= tf.nn.max_pool(x, ksize=[1, pool_ksize[0], pool_ksize[1],1], strides= [1, pool_strides[0], pool_strides[1],1], padding= 'SAME')\n",
    "    \n",
    "    return x\n",
    "\n",
    "\n",
    "\"\"\"\n",
    "DON'T MODIFY ANYTHING IN THIS CELL THAT IS BELOW THIS LINE\n",
    "\"\"\"\n",
    "tests.test_con_pool(conv2d_maxpool)"
   ]
  },
  {
   "cell_type": "markdown",
   "metadata": {},
   "source": [
    "### Flatten Layer\n",
    "Implement the `flatten` function to change the dimension of `x_tensor` from a 4-D tensor to a 2-D tensor.  The output should be the shape (*Batch Size*, *Flattened Image Size*). Shortcut option: you can use classes from the [TensorFlow Layers](https://www.tensorflow.org/api_docs/python/tf/layers) or [TensorFlow Layers (contrib)](https://www.tensorflow.org/api_guides/python/contrib.layers) packages for this layer. For more of a challenge, only use other TensorFlow packages."
   ]
  },
  {
   "cell_type": "code",
   "execution_count": 30,
   "metadata": {},
   "outputs": [
    {
     "name": "stdout",
     "output_type": "stream",
     "text": [
      "Tests Passed\n"
     ]
    }
   ],
   "source": [
    "def flatten(x_tensor):\n",
    "    \"\"\"\n",
    "    Flatten x_tensor to (Batch Size, Flattened Image Size)\n",
    "    : x_tensor: A tensor of size (Batch Size, ...), where ... are the image dimensions.\n",
    "    : return: A tensor of size (Batch Size, Flattened Image Size).\n",
    "    \"\"\"\n",
    "    # TODO: Implement Function\n",
    "    flaten_size = np.prod(x_tensor.get_shape().as_list()[1:]) \n",
    "    x_target = tf.reshape(x_tensor, [-1, flaten_size ])\n",
    "    return  x_target\n",
    "\n",
    "\n",
    "\"\"\"\n",
    "DON'T MODIFY ANYTHING IN THIS CELL THAT IS BELOW THIS LINE\n",
    "\"\"\"\n",
    "tests.test_flatten(flatten)"
   ]
  },
  {
   "cell_type": "markdown",
   "metadata": {},
   "source": [
    "### Fully-Connected Layer\n",
    "Implement the `fully_conn` function to apply a fully connected layer to `x_tensor` with the shape (*Batch Size*, *num_outputs*). Shortcut option: you can use classes from the [TensorFlow Layers](https://www.tensorflow.org/api_docs/python/tf/layers) or [TensorFlow Layers (contrib)](https://www.tensorflow.org/api_guides/python/contrib.layers) packages for this layer. For more of a challenge, only use other TensorFlow packages."
   ]
  },
  {
   "cell_type": "code",
   "execution_count": 31,
   "metadata": {},
   "outputs": [
    {
     "name": "stdout",
     "output_type": "stream",
     "text": [
      "Tests Passed\n"
     ]
    }
   ],
   "source": [
    "def fully_conn(x_tensor, num_outputs):\n",
    "    \"\"\"\n",
    "    Apply a fully connected layer to x_tensor using weight and bias\n",
    "    : x_tensor: A 2-D tensor where the first dimension is batch size.\n",
    "    : num_outputs: The number of output that the new tensor should be.\n",
    "    : return: A 2-D tensor where the second dimension is num_outputs.\n",
    "    \"\"\"\n",
    "    # TODO: Implement Function\n",
    "    nb_feature = x_tensor.get_shape().as_list()[-1]\n",
    "    weight = tf.Variable(tf.truncated_normal([nb_feature, num_outputs], stddev= 0.1))\n",
    "    bias = tf.Variable(tf.zeros([num_outputs]))\n",
    "    fc = tf.add(tf.matmul(x_tensor, weight), bias)\n",
    "    fc = tf.nn.relu(fc)\n",
    "    return fc\n",
    "\n",
    "\n",
    "\"\"\"\n",
    "DON'T MODIFY ANYTHING IN THIS CELL THAT IS BELOW THIS LINE\n",
    "\"\"\"\n",
    "tests.test_fully_conn(fully_conn)"
   ]
  },
  {
   "cell_type": "markdown",
   "metadata": {},
   "source": [
    "### Output Layer\n",
    "Implement the `output` function to apply a fully connected layer to `x_tensor` with the shape (*Batch Size*, *num_outputs*). Shortcut option: you can use classes from the [TensorFlow Layers](https://www.tensorflow.org/api_docs/python/tf/layers) or [TensorFlow Layers (contrib)](https://www.tensorflow.org/api_guides/python/contrib.layers) packages for this layer. For more of a challenge, only use other TensorFlow packages.\n",
    "\n",
    "**Note:** Activation, softmax, or cross entropy should **not** be applied to this."
   ]
  },
  {
   "cell_type": "code",
   "execution_count": 32,
   "metadata": {},
   "outputs": [
    {
     "name": "stdout",
     "output_type": "stream",
     "text": [
      "Tests Passed\n"
     ]
    }
   ],
   "source": [
    "def output(x_tensor, num_outputs):\n",
    "    \"\"\"\n",
    "    Apply a output layer to x_tensor using weight and bias\n",
    "    : x_tensor: A 2-D tensor where the first dimension is batch size.\n",
    "    : num_outputs: The number of output that the new tensor should be.\n",
    "    : return: A 2-D tensor where the second dimension is num_outputs.\n",
    "    \"\"\"\n",
    "    # TODO: Implement Function\n",
    "    nb_feature = x_tensor.get_shape().as_list()[-1]\n",
    "    weight = tf.Variable(tf.truncated_normal([nb_feature, num_outputs], stddev= 0.1))\n",
    "    bias = tf.Variable(tf.zeros([num_outputs]))\n",
    "    fc = tf.add(tf.matmul(x_tensor, weight), bias)\n",
    "    return fc\n",
    "\n",
    "\n",
    "\"\"\"\n",
    "DON'T MODIFY ANYTHING IN THIS CELL THAT IS BELOW THIS LINE\n",
    "\"\"\"\n",
    "tests.test_output(output)"
   ]
  },
  {
   "cell_type": "markdown",
   "metadata": {},
   "source": [
    "### Create Convolutional Model\n",
    "Implement the function `conv_net` to create a convolutional neural network model. The function takes in a batch of images, `x`, and outputs logits.  Use the layers you created above to create this model:\n",
    "\n",
    "* Apply 1, 2, or 3 Convolution and Max Pool layers\n",
    "* Apply a Flatten Layer\n",
    "* Apply 1, 2, or 3 Fully Connected Layers\n",
    "* Apply an Output Layer\n",
    "* Return the output\n",
    "* Apply [TensorFlow's Dropout](https://www.tensorflow.org/api_docs/python/tf/nn/dropout) to one or more layers in the model using `keep_prob`. "
   ]
  },
  {
   "cell_type": "code",
   "execution_count": 33,
   "metadata": {},
   "outputs": [
    {
     "name": "stdout",
     "output_type": "stream",
     "text": [
      "Neural Network Built!\n"
     ]
    }
   ],
   "source": [
    "def conv_net(x, keep_prob):\n",
    "    \"\"\"\n",
    "    Create a convolutional neural network model\n",
    "    : x: Placeholder tensor that holds image data.\n",
    "    : keep_prob: Placeholder tensor that hold dropout keep probability.\n",
    "    : return: Tensor that represents logits\n",
    "    \"\"\"\n",
    "    # TODO: Apply 1, 2, or 3 Convolution and Max Pool layers\n",
    "    #    Play around with different number of outputs, kernel size and stride\n",
    "    # Function Definition from Above:\n",
    "    #    conv2d_maxpool(x_tensor, conv_num_outputs, conv_ksize, conv_strides, pool_ksize, pool_strides)\n",
    "    conv_num_outputs_1 = 32\n",
    "    conv_ksize_1 = [2, 2]\n",
    "    conv_strides_1 =[2, 2]\n",
    "    pool_ksize_1 =[2, 2]\n",
    "    pool_strides_1 =[1, 1]\n",
    "    conv1 = conv2d_maxpool(x, conv_num_outputs_1,conv_ksize_1, conv_strides_1, pool_ksize_1, pool_strides_1)\n",
    "    conv1 =tf.nn.dropout(conv1, keep_prob)\n",
    "    \n",
    "    conv_num_outputs_2 = 64\n",
    "    conv_ksize_2 = [2, 2]\n",
    "    conv_strides_2 =[2, 2]\n",
    "    pool_ksize_2 =[2, 2]\n",
    "    pool_strides_2 =[1, 1]\n",
    "    conv2 = conv2d_maxpool(conv1, conv_num_outputs_2,conv_ksize_2, conv_strides_2, pool_ksize_2, pool_strides_2)\n",
    "\n",
    "    # TODO: Apply a Flatten Layer\n",
    "    # Function Definition from Above:\n",
    "    #   flatten(x_tensor)\n",
    "    flatten1 = flatten(conv2)\n",
    "    \n",
    "\n",
    "    # TODO: Apply 1, 2, or 3 Fully Connected Layers\n",
    "    #    Play around with different number of outputs\n",
    "    # Function Definition from Above:\n",
    "    #   fully_conn(x_tensor, num_outputs)\n",
    "    fc1_num_outputs =256\n",
    "    fc1 = fully_conn(flatten1, fc1_num_outputs)\n",
    "    fc1 = tf.nn.dropout(fc1, keep_prob)\n",
    "    \n",
    "    #fc2_num_outputs =512\n",
    "    #fc2 = fully_conn(fc1, fc2_num_outputs)\n",
    "    #fc2 = tf.nn.dropout(fc2, keep_prob)\n",
    "    \n",
    "    # TODO: Apply an Output Layer\n",
    "    #    Set this to the number of classes\n",
    "    # Function Definition from Above:\n",
    "    #   output(x_tensor, num_outputs)\n",
    "    output_num = 10\n",
    "    output_cls = output(fc1, output_num)\n",
    "    \n",
    "    # TODO: return output\n",
    "    return output_cls\n",
    "\n",
    "\n",
    "\"\"\"\n",
    "DON'T MODIFY ANYTHING IN THIS CELL THAT IS BELOW THIS LINE\n",
    "\"\"\"\n",
    "\n",
    "##############################\n",
    "## Build the Neural Network ##\n",
    "##############################\n",
    "\n",
    "# Remove previous weights, bias, inputs, etc..\n",
    "tf.reset_default_graph()\n",
    "\n",
    "# Inputs\n",
    "x = neural_net_image_input((32, 32, 3))\n",
    "y = neural_net_label_input(10)\n",
    "keep_prob = neural_net_keep_prob_input()\n",
    "\n",
    "# Model\n",
    "logits = conv_net(x, keep_prob)\n",
    "\n",
    "# Name logits Tensor, so that is can be loaded from disk after training\n",
    "logits = tf.identity(logits, name='logits')\n",
    "\n",
    "# Loss and Optimizer\n",
    "cost = tf.reduce_mean(tf.nn.softmax_cross_entropy_with_logits(logits=logits, labels=y))\n",
    "optimizer = tf.train.AdamOptimizer().minimize(cost)\n",
    "\n",
    "# Accuracy\n",
    "correct_pred = tf.equal(tf.argmax(logits, 1), tf.argmax(y, 1))\n",
    "accuracy = tf.reduce_mean(tf.cast(correct_pred, tf.float32), name='accuracy')\n",
    "\n",
    "tests.test_conv_net(conv_net)"
   ]
  },
  {
   "cell_type": "markdown",
   "metadata": {},
   "source": [
    "## Train the Neural Network\n",
    "### Single Optimization\n",
    "Implement the function `train_neural_network` to do a single optimization.  The optimization should use `optimizer` to optimize in `session` with a `feed_dict` of the following:\n",
    "* `x` for image input\n",
    "* `y` for labels\n",
    "* `keep_prob` for keep probability for dropout\n",
    "\n",
    "This function will be called for each batch, so `tf.global_variables_initializer()` has already been called.\n",
    "\n",
    "Note: Nothing needs to be returned. This function is only optimizing the neural network."
   ]
  },
  {
   "cell_type": "code",
   "execution_count": 34,
   "metadata": {},
   "outputs": [
    {
     "name": "stdout",
     "output_type": "stream",
     "text": [
      "Tests Passed\n"
     ]
    }
   ],
   "source": [
    "def train_neural_network(session, optimizer, keep_probability, feature_batch, label_batch):\n",
    "    \"\"\"\n",
    "    Optimize the session on a batch of images and labels\n",
    "    : session: Current TensorFlow session\n",
    "    : optimizer: TensorFlow optimizer function\n",
    "    : keep_probability: keep probability\n",
    "    : feature_batch: Batch of Numpy image data\n",
    "    : label_batch: Batch of Numpy label data\n",
    "    \"\"\"\n",
    "    # TODO: Implement Function\n",
    "    session.run(optimizer, feed_dict = {x: feature_batch, y: label_batch, keep_prob:keep_probability})\n",
    "\n",
    "\n",
    "\"\"\"\n",
    "DON'T MODIFY ANYTHING IN THIS CELL THAT IS BELOW THIS LINE\n",
    "\"\"\"\n",
    "tests.test_train_nn(train_neural_network)"
   ]
  },
  {
   "cell_type": "markdown",
   "metadata": {},
   "source": [
    "### Show Stats\n",
    "Implement the function `print_stats` to print loss and validation accuracy.  Use the global variables `valid_features` and `valid_labels` to calculate validation accuracy.  Use a keep probability of `1.0` to calculate the loss and validation accuracy."
   ]
  },
  {
   "cell_type": "code",
   "execution_count": 35,
   "metadata": {
    "collapsed": true
   },
   "outputs": [],
   "source": [
    "def print_stats(session, feature_batch, label_batch, cost, accuracy):\n",
    "    \"\"\"\n",
    "    Print information about loss and validation accuracy\n",
    "    : session: Current TensorFlow session\n",
    "    : feature_batch: Batch of Numpy image data\n",
    "    : label_batch: Batch of Numpy label data\n",
    "    : cost: TensorFlow cost function\n",
    "    : accuracy: TensorFlow accuracy function\n",
    "    \"\"\"\n",
    "    # TODO: Implement Function\n",
    "    loss = sess.run(cost, feed_dict={x: feature_batch, y: label_batch, keep_prob: 1.})\n",
    "    valid_acc = session.run(accuracy, feed_dict = {x: valid_features, y: valid_labels, keep_prob: 1})\n",
    "    print('Loss: {:>10.4f} Validation Accuracy: {:.6f}'.format(loss, valid_acc))"
   ]
  },
  {
   "cell_type": "markdown",
   "metadata": {},
   "source": [
    "### Hyperparameters\n",
    "Tune the following parameters:\n",
    "* Set `epochs` to the number of iterations until the network stops learning or start overfitting\n",
    "* Set `batch_size` to the highest number that your machine has memory for.  Most people set them to common sizes of memory:\n",
    " * 64\n",
    " * 128\n",
    " * 256\n",
    " * ...\n",
    "* Set `keep_probability` to the probability of keeping a node using dropout"
   ]
  },
  {
   "cell_type": "code",
   "execution_count": 36,
   "metadata": {
    "collapsed": true
   },
   "outputs": [],
   "source": [
    "# TODO: Tune Parameters\n",
    "epochs = 50\n",
    "batch_size = 512\n",
    "keep_probability = 0.7"
   ]
  },
  {
   "cell_type": "markdown",
   "metadata": {},
   "source": [
    "### Train on a Single CIFAR-10 Batch\n",
    "Instead of training the neural network on all the CIFAR-10 batches of data, let's use a single batch. This should save time while you iterate on the model to get a better accuracy.  Once the final validation accuracy is 50% or greater, run the model on all the data in the next section."
   ]
  },
  {
   "cell_type": "code",
   "execution_count": 37,
   "metadata": {},
   "outputs": [
    {
     "name": "stdout",
     "output_type": "stream",
     "text": [
      "Checking the Training on a Single Batch...\n",
      "Epoch  1, CIFAR-10 Batch 1:  Loss:     2.1362 Validation Accuracy: 0.248600\n",
      "Epoch  2, CIFAR-10 Batch 1:  Loss:     2.0213 Validation Accuracy: 0.305600\n",
      "Epoch  3, CIFAR-10 Batch 1:  Loss:     1.8412 Validation Accuracy: 0.385600\n",
      "Epoch  4, CIFAR-10 Batch 1:  Loss:     1.7097 Validation Accuracy: 0.426800\n",
      "Epoch  5, CIFAR-10 Batch 1:  Loss:     1.6325 Validation Accuracy: 0.455600\n",
      "Epoch  6, CIFAR-10 Batch 1:  Loss:     1.5548 Validation Accuracy: 0.472400\n",
      "Epoch  7, CIFAR-10 Batch 1:  Loss:     1.5132 Validation Accuracy: 0.483200\n",
      "Epoch  8, CIFAR-10 Batch 1:  Loss:     1.4530 Validation Accuracy: 0.495000\n",
      "Epoch  9, CIFAR-10 Batch 1:  Loss:     1.4187 Validation Accuracy: 0.509000\n",
      "Epoch 10, CIFAR-10 Batch 1:  Loss:     1.3920 Validation Accuracy: 0.511400\n",
      "Epoch 11, CIFAR-10 Batch 1:  Loss:     1.3542 Validation Accuracy: 0.524200\n",
      "Epoch 12, CIFAR-10 Batch 1:  Loss:     1.3040 Validation Accuracy: 0.532400\n",
      "Epoch 13, CIFAR-10 Batch 1:  Loss:     1.2698 Validation Accuracy: 0.530800\n",
      "Epoch 14, CIFAR-10 Batch 1:  Loss:     1.2464 Validation Accuracy: 0.538600\n",
      "Epoch 15, CIFAR-10 Batch 1:  Loss:     1.2261 Validation Accuracy: 0.542000\n",
      "Epoch 16, CIFAR-10 Batch 1:  Loss:     1.1647 Validation Accuracy: 0.552000\n",
      "Epoch 17, CIFAR-10 Batch 1:  Loss:     1.1336 Validation Accuracy: 0.551800\n",
      "Epoch 18, CIFAR-10 Batch 1:  Loss:     1.1026 Validation Accuracy: 0.552600\n",
      "Epoch 19, CIFAR-10 Batch 1:  Loss:     1.0741 Validation Accuracy: 0.563200\n",
      "Epoch 20, CIFAR-10 Batch 1:  Loss:     1.0473 Validation Accuracy: 0.570600\n",
      "Epoch 21, CIFAR-10 Batch 1:  Loss:     1.0114 Validation Accuracy: 0.568400\n",
      "Epoch 22, CIFAR-10 Batch 1:  Loss:     0.9917 Validation Accuracy: 0.572400\n",
      "Epoch 23, CIFAR-10 Batch 1:  Loss:     0.9754 Validation Accuracy: 0.567200\n",
      "Epoch 24, CIFAR-10 Batch 1:  Loss:     0.9539 Validation Accuracy: 0.569800\n",
      "Epoch 25, CIFAR-10 Batch 1:  Loss:     0.9320 Validation Accuracy: 0.574200\n",
      "Epoch 26, CIFAR-10 Batch 1:  Loss:     0.9021 Validation Accuracy: 0.568800\n",
      "Epoch 27, CIFAR-10 Batch 1:  Loss:     0.8705 Validation Accuracy: 0.577600\n",
      "Epoch 28, CIFAR-10 Batch 1:  Loss:     0.8542 Validation Accuracy: 0.571000\n",
      "Epoch 29, CIFAR-10 Batch 1:  Loss:     0.8002 Validation Accuracy: 0.585800\n",
      "Epoch 30, CIFAR-10 Batch 1:  Loss:     0.7787 Validation Accuracy: 0.579000\n",
      "Epoch 31, CIFAR-10 Batch 1:  Loss:     0.7579 Validation Accuracy: 0.585200\n",
      "Epoch 32, CIFAR-10 Batch 1:  Loss:     0.7221 Validation Accuracy: 0.588200\n",
      "Epoch 33, CIFAR-10 Batch 1:  Loss:     0.7118 Validation Accuracy: 0.593200\n",
      "Epoch 34, CIFAR-10 Batch 1:  Loss:     0.6795 Validation Accuracy: 0.592000\n",
      "Epoch 35, CIFAR-10 Batch 1:  Loss:     0.6574 Validation Accuracy: 0.595400\n",
      "Epoch 36, CIFAR-10 Batch 1:  Loss:     0.6347 Validation Accuracy: 0.595200\n",
      "Epoch 37, CIFAR-10 Batch 1:  Loss:     0.6239 Validation Accuracy: 0.594600\n",
      "Epoch 38, CIFAR-10 Batch 1:  Loss:     0.5916 Validation Accuracy: 0.595000\n",
      "Epoch 39, CIFAR-10 Batch 1:  Loss:     0.6152 Validation Accuracy: 0.578000\n",
      "Epoch 40, CIFAR-10 Batch 1:  Loss:     0.5464 Validation Accuracy: 0.602800\n",
      "Epoch 41, CIFAR-10 Batch 1:  Loss:     0.5277 Validation Accuracy: 0.601400\n",
      "Epoch 42, CIFAR-10 Batch 1:  Loss:     0.5258 Validation Accuracy: 0.599000\n",
      "Epoch 43, CIFAR-10 Batch 1:  Loss:     0.4880 Validation Accuracy: 0.600200\n",
      "Epoch 44, CIFAR-10 Batch 1:  Loss:     0.4787 Validation Accuracy: 0.604600\n",
      "Epoch 45, CIFAR-10 Batch 1:  Loss:     0.4601 Validation Accuracy: 0.609800\n",
      "Epoch 46, CIFAR-10 Batch 1:  Loss:     0.4371 Validation Accuracy: 0.612200\n",
      "Epoch 47, CIFAR-10 Batch 1:  Loss:     0.4098 Validation Accuracy: 0.612400\n",
      "Epoch 48, CIFAR-10 Batch 1:  Loss:     0.3821 Validation Accuracy: 0.611600\n",
      "Epoch 49, CIFAR-10 Batch 1:  Loss:     0.3749 Validation Accuracy: 0.611600\n",
      "Epoch 50, CIFAR-10 Batch 1:  Loss:     0.3704 Validation Accuracy: 0.614800\n"
     ]
    }
   ],
   "source": [
    "\"\"\"\n",
    "DON'T MODIFY ANYTHING IN THIS CELL\n",
    "\"\"\"\n",
    "print('Checking the Training on a Single Batch...')\n",
    "with tf.Session() as sess:\n",
    "    # Initializing the variables\n",
    "    sess.run(tf.global_variables_initializer())\n",
    "    \n",
    "    # Training cycle\n",
    "    for epoch in range(epochs):\n",
    "        batch_i = 1\n",
    "        for batch_features, batch_labels in helper.load_preprocess_training_batch(batch_i, batch_size):\n",
    "            train_neural_network(sess, optimizer, keep_probability, batch_features, batch_labels)\n",
    "        print('Epoch {:>2}, CIFAR-10 Batch {}:  '.format(epoch + 1, batch_i), end='')\n",
    "        print_stats(sess, batch_features, batch_labels, cost, accuracy)"
   ]
  },
  {
   "cell_type": "markdown",
   "metadata": {},
   "source": [
    "### Fully Train the Model\n",
    "Now that you got a good accuracy with a single CIFAR-10 batch, try it with all five batches."
   ]
  },
  {
   "cell_type": "code",
   "execution_count": 38,
   "metadata": {},
   "outputs": [
    {
     "name": "stdout",
     "output_type": "stream",
     "text": [
      "Training...\n",
      "Epoch  1, CIFAR-10 Batch 1:  Loss:     2.2045 Validation Accuracy: 0.224400\n",
      "Epoch  1, CIFAR-10 Batch 2:  Loss:     2.0078 Validation Accuracy: 0.283600\n",
      "Epoch  1, CIFAR-10 Batch 3:  Loss:     1.8544 Validation Accuracy: 0.340800\n",
      "Epoch  1, CIFAR-10 Batch 4:  Loss:     1.7030 Validation Accuracy: 0.399200\n",
      "Epoch  1, CIFAR-10 Batch 5:  Loss:     1.6299 Validation Accuracy: 0.434600\n",
      "Epoch  2, CIFAR-10 Batch 1:  Loss:     1.6305 Validation Accuracy: 0.457000\n",
      "Epoch  2, CIFAR-10 Batch 2:  Loss:     1.4965 Validation Accuracy: 0.483000\n",
      "Epoch  2, CIFAR-10 Batch 3:  Loss:     1.3905 Validation Accuracy: 0.492400\n",
      "Epoch  2, CIFAR-10 Batch 4:  Loss:     1.3646 Validation Accuracy: 0.496800\n",
      "Epoch  2, CIFAR-10 Batch 5:  Loss:     1.3949 Validation Accuracy: 0.513800\n",
      "Epoch  3, CIFAR-10 Batch 1:  Loss:     1.4566 Validation Accuracy: 0.518000\n",
      "Epoch  3, CIFAR-10 Batch 2:  Loss:     1.3225 Validation Accuracy: 0.531600\n",
      "Epoch  3, CIFAR-10 Batch 3:  Loss:     1.2327 Validation Accuracy: 0.528600\n",
      "Epoch  3, CIFAR-10 Batch 4:  Loss:     1.2413 Validation Accuracy: 0.534400\n",
      "Epoch  3, CIFAR-10 Batch 5:  Loss:     1.2623 Validation Accuracy: 0.553000\n",
      "Epoch  4, CIFAR-10 Batch 1:  Loss:     1.3518 Validation Accuracy: 0.549400\n",
      "Epoch  4, CIFAR-10 Batch 2:  Loss:     1.2143 Validation Accuracy: 0.563800\n",
      "Epoch  4, CIFAR-10 Batch 3:  Loss:     1.1361 Validation Accuracy: 0.561000\n",
      "Epoch  4, CIFAR-10 Batch 4:  Loss:     1.1597 Validation Accuracy: 0.561800\n",
      "Epoch  4, CIFAR-10 Batch 5:  Loss:     1.1753 Validation Accuracy: 0.564800\n",
      "Epoch  5, CIFAR-10 Batch 1:  Loss:     1.2464 Validation Accuracy: 0.569600\n",
      "Epoch  5, CIFAR-10 Batch 2:  Loss:     1.1599 Validation Accuracy: 0.572800\n",
      "Epoch  5, CIFAR-10 Batch 3:  Loss:     1.0546 Validation Accuracy: 0.571600\n",
      "Epoch  5, CIFAR-10 Batch 4:  Loss:     1.0867 Validation Accuracy: 0.570400\n",
      "Epoch  5, CIFAR-10 Batch 5:  Loss:     1.1034 Validation Accuracy: 0.587200\n",
      "Epoch  6, CIFAR-10 Batch 1:  Loss:     1.1723 Validation Accuracy: 0.578200\n",
      "Epoch  6, CIFAR-10 Batch 2:  Loss:     1.1036 Validation Accuracy: 0.588600\n",
      "Epoch  6, CIFAR-10 Batch 3:  Loss:     1.0063 Validation Accuracy: 0.588800\n",
      "Epoch  6, CIFAR-10 Batch 4:  Loss:     1.0155 Validation Accuracy: 0.594400\n",
      "Epoch  6, CIFAR-10 Batch 5:  Loss:     1.0517 Validation Accuracy: 0.595200\n",
      "Epoch  7, CIFAR-10 Batch 1:  Loss:     1.1103 Validation Accuracy: 0.599000\n",
      "Epoch  7, CIFAR-10 Batch 2:  Loss:     1.0412 Validation Accuracy: 0.602000\n",
      "Epoch  7, CIFAR-10 Batch 3:  Loss:     0.9502 Validation Accuracy: 0.605400\n",
      "Epoch  7, CIFAR-10 Batch 4:  Loss:     0.9683 Validation Accuracy: 0.610000\n",
      "Epoch  7, CIFAR-10 Batch 5:  Loss:     1.0019 Validation Accuracy: 0.595400\n",
      "Epoch  8, CIFAR-10 Batch 1:  Loss:     1.0673 Validation Accuracy: 0.608800\n",
      "Epoch  8, CIFAR-10 Batch 2:  Loss:     0.9945 Validation Accuracy: 0.614400\n",
      "Epoch  8, CIFAR-10 Batch 3:  Loss:     0.9084 Validation Accuracy: 0.608200\n",
      "Epoch  8, CIFAR-10 Batch 4:  Loss:     0.9172 Validation Accuracy: 0.625800\n",
      "Epoch  8, CIFAR-10 Batch 5:  Loss:     0.9371 Validation Accuracy: 0.613800\n",
      "Epoch  9, CIFAR-10 Batch 1:  Loss:     1.0107 Validation Accuracy: 0.622000\n",
      "Epoch  9, CIFAR-10 Batch 2:  Loss:     0.9458 Validation Accuracy: 0.630600\n",
      "Epoch  9, CIFAR-10 Batch 3:  Loss:     0.8674 Validation Accuracy: 0.619800\n",
      "Epoch  9, CIFAR-10 Batch 4:  Loss:     0.8749 Validation Accuracy: 0.631200\n",
      "Epoch  9, CIFAR-10 Batch 5:  Loss:     0.8871 Validation Accuracy: 0.626000\n",
      "Epoch 10, CIFAR-10 Batch 1:  Loss:     0.9667 Validation Accuracy: 0.625000\n",
      "Epoch 10, CIFAR-10 Batch 2:  Loss:     0.9230 Validation Accuracy: 0.630200\n",
      "Epoch 10, CIFAR-10 Batch 3:  Loss:     0.8510 Validation Accuracy: 0.629000\n",
      "Epoch 10, CIFAR-10 Batch 4:  Loss:     0.8239 Validation Accuracy: 0.640800\n",
      "Epoch 10, CIFAR-10 Batch 5:  Loss:     0.8520 Validation Accuracy: 0.624600\n",
      "Epoch 11, CIFAR-10 Batch 1:  Loss:     0.9382 Validation Accuracy: 0.629800\n",
      "Epoch 11, CIFAR-10 Batch 2:  Loss:     0.8659 Validation Accuracy: 0.642400\n",
      "Epoch 11, CIFAR-10 Batch 3:  Loss:     0.8057 Validation Accuracy: 0.638600\n",
      "Epoch 11, CIFAR-10 Batch 4:  Loss:     0.8031 Validation Accuracy: 0.642800\n",
      "Epoch 11, CIFAR-10 Batch 5:  Loss:     0.8095 Validation Accuracy: 0.648000\n",
      "Epoch 12, CIFAR-10 Batch 1:  Loss:     0.8973 Validation Accuracy: 0.638200\n",
      "Epoch 12, CIFAR-10 Batch 2:  Loss:     0.8345 Validation Accuracy: 0.646000\n",
      "Epoch 12, CIFAR-10 Batch 3:  Loss:     0.7755 Validation Accuracy: 0.647800\n",
      "Epoch 12, CIFAR-10 Batch 4:  Loss:     0.7616 Validation Accuracy: 0.650400\n",
      "Epoch 12, CIFAR-10 Batch 5:  Loss:     0.7793 Validation Accuracy: 0.654200\n",
      "Epoch 13, CIFAR-10 Batch 1:  Loss:     0.8671 Validation Accuracy: 0.643000\n",
      "Epoch 13, CIFAR-10 Batch 2:  Loss:     0.8260 Validation Accuracy: 0.651400\n",
      "Epoch 13, CIFAR-10 Batch 3:  Loss:     0.7565 Validation Accuracy: 0.651000\n",
      "Epoch 13, CIFAR-10 Batch 4:  Loss:     0.7400 Validation Accuracy: 0.653000\n",
      "Epoch 13, CIFAR-10 Batch 5:  Loss:     0.7417 Validation Accuracy: 0.658800\n",
      "Epoch 14, CIFAR-10 Batch 1:  Loss:     0.8200 Validation Accuracy: 0.654800\n",
      "Epoch 14, CIFAR-10 Batch 2:  Loss:     0.8012 Validation Accuracy: 0.652400\n",
      "Epoch 14, CIFAR-10 Batch 3:  Loss:     0.7120 Validation Accuracy: 0.660400\n",
      "Epoch 14, CIFAR-10 Batch 4:  Loss:     0.6923 Validation Accuracy: 0.660800\n",
      "Epoch 14, CIFAR-10 Batch 5:  Loss:     0.7034 Validation Accuracy: 0.660600\n",
      "Epoch 15, CIFAR-10 Batch 1:  Loss:     0.7849 Validation Accuracy: 0.663000\n",
      "Epoch 15, CIFAR-10 Batch 2:  Loss:     0.7605 Validation Accuracy: 0.651000\n",
      "Epoch 15, CIFAR-10 Batch 3:  Loss:     0.6756 Validation Accuracy: 0.660000\n",
      "Epoch 15, CIFAR-10 Batch 4:  Loss:     0.6683 Validation Accuracy: 0.663600\n",
      "Epoch 15, CIFAR-10 Batch 5:  Loss:     0.6694 Validation Accuracy: 0.668000\n",
      "Epoch 16, CIFAR-10 Batch 1:  Loss:     0.7571 Validation Accuracy: 0.664200\n",
      "Epoch 16, CIFAR-10 Batch 2:  Loss:     0.7425 Validation Accuracy: 0.658400\n",
      "Epoch 16, CIFAR-10 Batch 3:  Loss:     0.6594 Validation Accuracy: 0.666400\n",
      "Epoch 16, CIFAR-10 Batch 4:  Loss:     0.6517 Validation Accuracy: 0.670400\n",
      "Epoch 16, CIFAR-10 Batch 5:  Loss:     0.6547 Validation Accuracy: 0.670600\n",
      "Epoch 17, CIFAR-10 Batch 1:  Loss:     0.7410 Validation Accuracy: 0.663600\n",
      "Epoch 17, CIFAR-10 Batch 2:  Loss:     0.7148 Validation Accuracy: 0.665600\n",
      "Epoch 17, CIFAR-10 Batch 3:  Loss:     0.6482 Validation Accuracy: 0.669000\n",
      "Epoch 17, CIFAR-10 Batch 4:  Loss:     0.6193 Validation Accuracy: 0.673000\n",
      "Epoch 17, CIFAR-10 Batch 5:  Loss:     0.6280 Validation Accuracy: 0.678400\n",
      "Epoch 18, CIFAR-10 Batch 1:  Loss:     0.7092 Validation Accuracy: 0.664800\n",
      "Epoch 18, CIFAR-10 Batch 2:  Loss:     0.6893 Validation Accuracy: 0.658800\n",
      "Epoch 18, CIFAR-10 Batch 3:  Loss:     0.6230 Validation Accuracy: 0.672000\n",
      "Epoch 18, CIFAR-10 Batch 4:  Loss:     0.6126 Validation Accuracy: 0.677000\n",
      "Epoch 18, CIFAR-10 Batch 5:  Loss:     0.6098 Validation Accuracy: 0.678200\n",
      "Epoch 19, CIFAR-10 Batch 1:  Loss:     0.6836 Validation Accuracy: 0.670800\n",
      "Epoch 19, CIFAR-10 Batch 2:  Loss:     0.6699 Validation Accuracy: 0.665600\n",
      "Epoch 19, CIFAR-10 Batch 3:  Loss:     0.5999 Validation Accuracy: 0.673400\n",
      "Epoch 19, CIFAR-10 Batch 4:  Loss:     0.5972 Validation Accuracy: 0.667600\n",
      "Epoch 19, CIFAR-10 Batch 5:  Loss:     0.5882 Validation Accuracy: 0.676400\n",
      "Epoch 20, CIFAR-10 Batch 1:  Loss:     0.6504 Validation Accuracy: 0.672800\n",
      "Epoch 20, CIFAR-10 Batch 2:  Loss:     0.6458 Validation Accuracy: 0.669000\n",
      "Epoch 20, CIFAR-10 Batch 3:  Loss:     0.5634 Validation Accuracy: 0.676200\n",
      "Epoch 20, CIFAR-10 Batch 4:  Loss:     0.5521 Validation Accuracy: 0.672000\n",
      "Epoch 20, CIFAR-10 Batch 5:  Loss:     0.5511 Validation Accuracy: 0.680600\n",
      "Epoch 21, CIFAR-10 Batch 1:  Loss:     0.6191 Validation Accuracy: 0.671000\n",
      "Epoch 21, CIFAR-10 Batch 2:  Loss:     0.6082 Validation Accuracy: 0.675200\n",
      "Epoch 21, CIFAR-10 Batch 3:  Loss:     0.5494 Validation Accuracy: 0.675800\n",
      "Epoch 21, CIFAR-10 Batch 4:  Loss:     0.5370 Validation Accuracy: 0.674400\n",
      "Epoch 21, CIFAR-10 Batch 5:  Loss:     0.5436 Validation Accuracy: 0.678600\n",
      "Epoch 22, CIFAR-10 Batch 1:  Loss:     0.6105 Validation Accuracy: 0.677400\n",
      "Epoch 22, CIFAR-10 Batch 2:  Loss:     0.5908 Validation Accuracy: 0.679000\n"
     ]
    },
    {
     "name": "stdout",
     "output_type": "stream",
     "text": [
      "Epoch 22, CIFAR-10 Batch 3:  Loss:     0.5273 Validation Accuracy: 0.673600\n",
      "Epoch 22, CIFAR-10 Batch 4:  Loss:     0.5168 Validation Accuracy: 0.670600\n",
      "Epoch 22, CIFAR-10 Batch 5:  Loss:     0.5315 Validation Accuracy: 0.682000\n",
      "Epoch 23, CIFAR-10 Batch 1:  Loss:     0.5909 Validation Accuracy: 0.677800\n",
      "Epoch 23, CIFAR-10 Batch 2:  Loss:     0.5746 Validation Accuracy: 0.687400\n",
      "Epoch 23, CIFAR-10 Batch 3:  Loss:     0.5382 Validation Accuracy: 0.674800\n",
      "Epoch 23, CIFAR-10 Batch 4:  Loss:     0.4973 Validation Accuracy: 0.675600\n",
      "Epoch 23, CIFAR-10 Batch 5:  Loss:     0.5100 Validation Accuracy: 0.682000\n",
      "Epoch 24, CIFAR-10 Batch 1:  Loss:     0.5650 Validation Accuracy: 0.683600\n",
      "Epoch 24, CIFAR-10 Batch 2:  Loss:     0.5635 Validation Accuracy: 0.685800\n",
      "Epoch 24, CIFAR-10 Batch 3:  Loss:     0.4929 Validation Accuracy: 0.679200\n",
      "Epoch 24, CIFAR-10 Batch 4:  Loss:     0.4722 Validation Accuracy: 0.682800\n",
      "Epoch 24, CIFAR-10 Batch 5:  Loss:     0.4879 Validation Accuracy: 0.687200\n",
      "Epoch 25, CIFAR-10 Batch 1:  Loss:     0.5625 Validation Accuracy: 0.682600\n",
      "Epoch 25, CIFAR-10 Batch 2:  Loss:     0.5460 Validation Accuracy: 0.684600\n",
      "Epoch 25, CIFAR-10 Batch 3:  Loss:     0.4669 Validation Accuracy: 0.686200\n",
      "Epoch 25, CIFAR-10 Batch 4:  Loss:     0.4509 Validation Accuracy: 0.678200\n",
      "Epoch 25, CIFAR-10 Batch 5:  Loss:     0.4817 Validation Accuracy: 0.688000\n",
      "Epoch 26, CIFAR-10 Batch 1:  Loss:     0.5246 Validation Accuracy: 0.682800\n",
      "Epoch 26, CIFAR-10 Batch 2:  Loss:     0.5062 Validation Accuracy: 0.686200\n",
      "Epoch 26, CIFAR-10 Batch 3:  Loss:     0.4534 Validation Accuracy: 0.683400\n",
      "Epoch 26, CIFAR-10 Batch 4:  Loss:     0.4270 Validation Accuracy: 0.690400\n",
      "Epoch 26, CIFAR-10 Batch 5:  Loss:     0.4465 Validation Accuracy: 0.688800\n",
      "Epoch 27, CIFAR-10 Batch 1:  Loss:     0.4955 Validation Accuracy: 0.689200\n",
      "Epoch 27, CIFAR-10 Batch 2:  Loss:     0.4890 Validation Accuracy: 0.692200\n",
      "Epoch 27, CIFAR-10 Batch 3:  Loss:     0.4354 Validation Accuracy: 0.679800\n",
      "Epoch 27, CIFAR-10 Batch 4:  Loss:     0.4105 Validation Accuracy: 0.681200\n",
      "Epoch 27, CIFAR-10 Batch 5:  Loss:     0.4362 Validation Accuracy: 0.692000\n",
      "Epoch 28, CIFAR-10 Batch 1:  Loss:     0.4650 Validation Accuracy: 0.688600\n",
      "Epoch 28, CIFAR-10 Batch 2:  Loss:     0.4794 Validation Accuracy: 0.694200\n",
      "Epoch 28, CIFAR-10 Batch 3:  Loss:     0.4140 Validation Accuracy: 0.690000\n",
      "Epoch 28, CIFAR-10 Batch 4:  Loss:     0.4012 Validation Accuracy: 0.686600\n",
      "Epoch 28, CIFAR-10 Batch 5:  Loss:     0.4165 Validation Accuracy: 0.690600\n",
      "Epoch 29, CIFAR-10 Batch 1:  Loss:     0.4515 Validation Accuracy: 0.689800\n",
      "Epoch 29, CIFAR-10 Batch 2:  Loss:     0.4536 Validation Accuracy: 0.691800\n",
      "Epoch 29, CIFAR-10 Batch 3:  Loss:     0.4300 Validation Accuracy: 0.679400\n",
      "Epoch 29, CIFAR-10 Batch 4:  Loss:     0.4071 Validation Accuracy: 0.689600\n",
      "Epoch 29, CIFAR-10 Batch 5:  Loss:     0.4045 Validation Accuracy: 0.698000\n",
      "Epoch 30, CIFAR-10 Batch 1:  Loss:     0.4551 Validation Accuracy: 0.688200\n",
      "Epoch 30, CIFAR-10 Batch 2:  Loss:     0.4451 Validation Accuracy: 0.700400\n",
      "Epoch 30, CIFAR-10 Batch 3:  Loss:     0.4098 Validation Accuracy: 0.683800\n",
      "Epoch 30, CIFAR-10 Batch 4:  Loss:     0.3648 Validation Accuracy: 0.688600\n",
      "Epoch 30, CIFAR-10 Batch 5:  Loss:     0.3926 Validation Accuracy: 0.695000\n",
      "Epoch 31, CIFAR-10 Batch 1:  Loss:     0.4386 Validation Accuracy: 0.692000\n",
      "Epoch 31, CIFAR-10 Batch 2:  Loss:     0.4317 Validation Accuracy: 0.697000\n",
      "Epoch 31, CIFAR-10 Batch 3:  Loss:     0.3927 Validation Accuracy: 0.684800\n",
      "Epoch 31, CIFAR-10 Batch 4:  Loss:     0.3499 Validation Accuracy: 0.686800\n",
      "Epoch 31, CIFAR-10 Batch 5:  Loss:     0.3773 Validation Accuracy: 0.698800\n",
      "Epoch 32, CIFAR-10 Batch 1:  Loss:     0.4166 Validation Accuracy: 0.690800\n",
      "Epoch 32, CIFAR-10 Batch 2:  Loss:     0.4067 Validation Accuracy: 0.700200\n",
      "Epoch 32, CIFAR-10 Batch 3:  Loss:     0.3873 Validation Accuracy: 0.678000\n",
      "Epoch 32, CIFAR-10 Batch 4:  Loss:     0.3472 Validation Accuracy: 0.690200\n",
      "Epoch 32, CIFAR-10 Batch 5:  Loss:     0.3731 Validation Accuracy: 0.693000\n",
      "Epoch 33, CIFAR-10 Batch 1:  Loss:     0.4103 Validation Accuracy: 0.693000\n",
      "Epoch 33, CIFAR-10 Batch 2:  Loss:     0.3954 Validation Accuracy: 0.698800\n",
      "Epoch 33, CIFAR-10 Batch 3:  Loss:     0.3703 Validation Accuracy: 0.679400\n",
      "Epoch 33, CIFAR-10 Batch 4:  Loss:     0.3213 Validation Accuracy: 0.688200\n",
      "Epoch 33, CIFAR-10 Batch 5:  Loss:     0.3657 Validation Accuracy: 0.697800\n",
      "Epoch 34, CIFAR-10 Batch 1:  Loss:     0.3980 Validation Accuracy: 0.690000\n",
      "Epoch 34, CIFAR-10 Batch 2:  Loss:     0.3802 Validation Accuracy: 0.699600\n",
      "Epoch 34, CIFAR-10 Batch 3:  Loss:     0.3413 Validation Accuracy: 0.684400\n",
      "Epoch 34, CIFAR-10 Batch 4:  Loss:     0.3232 Validation Accuracy: 0.694800\n",
      "Epoch 34, CIFAR-10 Batch 5:  Loss:     0.3385 Validation Accuracy: 0.697200\n",
      "Epoch 35, CIFAR-10 Batch 1:  Loss:     0.3866 Validation Accuracy: 0.692800\n",
      "Epoch 35, CIFAR-10 Batch 2:  Loss:     0.3613 Validation Accuracy: 0.699000\n",
      "Epoch 35, CIFAR-10 Batch 3:  Loss:     0.3345 Validation Accuracy: 0.681800\n",
      "Epoch 35, CIFAR-10 Batch 4:  Loss:     0.3226 Validation Accuracy: 0.687800\n",
      "Epoch 35, CIFAR-10 Batch 5:  Loss:     0.3190 Validation Accuracy: 0.690600\n",
      "Epoch 36, CIFAR-10 Batch 1:  Loss:     0.3672 Validation Accuracy: 0.700400\n",
      "Epoch 36, CIFAR-10 Batch 2:  Loss:     0.3745 Validation Accuracy: 0.692600\n",
      "Epoch 36, CIFAR-10 Batch 3:  Loss:     0.3292 Validation Accuracy: 0.685800\n",
      "Epoch 36, CIFAR-10 Batch 4:  Loss:     0.3011 Validation Accuracy: 0.688200\n",
      "Epoch 36, CIFAR-10 Batch 5:  Loss:     0.3072 Validation Accuracy: 0.694200\n",
      "Epoch 37, CIFAR-10 Batch 1:  Loss:     0.3434 Validation Accuracy: 0.692600\n",
      "Epoch 37, CIFAR-10 Batch 2:  Loss:     0.3502 Validation Accuracy: 0.697400\n",
      "Epoch 37, CIFAR-10 Batch 3:  Loss:     0.3042 Validation Accuracy: 0.687600\n",
      "Epoch 37, CIFAR-10 Batch 4:  Loss:     0.3017 Validation Accuracy: 0.691800\n",
      "Epoch 37, CIFAR-10 Batch 5:  Loss:     0.3088 Validation Accuracy: 0.699200\n",
      "Epoch 38, CIFAR-10 Batch 1:  Loss:     0.3480 Validation Accuracy: 0.690800\n",
      "Epoch 38, CIFAR-10 Batch 2:  Loss:     0.3329 Validation Accuracy: 0.698400\n",
      "Epoch 38, CIFAR-10 Batch 3:  Loss:     0.2905 Validation Accuracy: 0.694600\n",
      "Epoch 38, CIFAR-10 Batch 4:  Loss:     0.2824 Validation Accuracy: 0.695800\n",
      "Epoch 38, CIFAR-10 Batch 5:  Loss:     0.3029 Validation Accuracy: 0.693800\n",
      "Epoch 39, CIFAR-10 Batch 1:  Loss:     0.3422 Validation Accuracy: 0.689800\n",
      "Epoch 39, CIFAR-10 Batch 2:  Loss:     0.3261 Validation Accuracy: 0.694800\n",
      "Epoch 39, CIFAR-10 Batch 3:  Loss:     0.2932 Validation Accuracy: 0.683400\n",
      "Epoch 39, CIFAR-10 Batch 4:  Loss:     0.2698 Validation Accuracy: 0.698800\n",
      "Epoch 39, CIFAR-10 Batch 5:  Loss:     0.2803 Validation Accuracy: 0.700600\n",
      "Epoch 40, CIFAR-10 Batch 1:  Loss:     0.3242 Validation Accuracy: 0.697200\n",
      "Epoch 40, CIFAR-10 Batch 2:  Loss:     0.3186 Validation Accuracy: 0.695400\n",
      "Epoch 40, CIFAR-10 Batch 3:  Loss:     0.2848 Validation Accuracy: 0.690400\n",
      "Epoch 40, CIFAR-10 Batch 4:  Loss:     0.2573 Validation Accuracy: 0.699200\n",
      "Epoch 40, CIFAR-10 Batch 5:  Loss:     0.2715 Validation Accuracy: 0.699800\n",
      "Epoch 41, CIFAR-10 Batch 1:  Loss:     0.3169 Validation Accuracy: 0.691800\n",
      "Epoch 41, CIFAR-10 Batch 2:  Loss:     0.2951 Validation Accuracy: 0.698600\n",
      "Epoch 41, CIFAR-10 Batch 3:  Loss:     0.2818 Validation Accuracy: 0.690400\n",
      "Epoch 41, CIFAR-10 Batch 4:  Loss:     0.2518 Validation Accuracy: 0.700400\n",
      "Epoch 41, CIFAR-10 Batch 5:  Loss:     0.2434 Validation Accuracy: 0.701400\n",
      "Epoch 42, CIFAR-10 Batch 1:  Loss:     0.3071 Validation Accuracy: 0.692400\n",
      "Epoch 42, CIFAR-10 Batch 2:  Loss:     0.2938 Validation Accuracy: 0.697800\n",
      "Epoch 42, CIFAR-10 Batch 3:  Loss:     0.2648 Validation Accuracy: 0.691000\n",
      "Epoch 42, CIFAR-10 Batch 4:  Loss:     0.2456 Validation Accuracy: 0.700200\n",
      "Epoch 42, CIFAR-10 Batch 5:  Loss:     0.2417 Validation Accuracy: 0.697400\n",
      "Epoch 43, CIFAR-10 Batch 1:  Loss:     0.2967 Validation Accuracy: 0.696000\n",
      "Epoch 43, CIFAR-10 Batch 2:  Loss:     0.2698 Validation Accuracy: 0.696200\n",
      "Epoch 43, CIFAR-10 Batch 3:  Loss:     0.2535 Validation Accuracy: 0.684600\n",
      "Epoch 43, CIFAR-10 Batch 4:  Loss:     0.2472 Validation Accuracy: 0.696000\n"
     ]
    },
    {
     "name": "stdout",
     "output_type": "stream",
     "text": [
      "Epoch 43, CIFAR-10 Batch 5:  Loss:     0.2270 Validation Accuracy: 0.693400\n",
      "Epoch 44, CIFAR-10 Batch 1:  Loss:     0.2876 Validation Accuracy: 0.687400\n",
      "Epoch 44, CIFAR-10 Batch 2:  Loss:     0.2668 Validation Accuracy: 0.694400\n",
      "Epoch 44, CIFAR-10 Batch 3:  Loss:     0.2491 Validation Accuracy: 0.688400\n",
      "Epoch 44, CIFAR-10 Batch 4:  Loss:     0.2426 Validation Accuracy: 0.699600\n",
      "Epoch 44, CIFAR-10 Batch 5:  Loss:     0.2248 Validation Accuracy: 0.701200\n",
      "Epoch 45, CIFAR-10 Batch 1:  Loss:     0.2782 Validation Accuracy: 0.693200\n",
      "Epoch 45, CIFAR-10 Batch 2:  Loss:     0.2620 Validation Accuracy: 0.706000\n",
      "Epoch 45, CIFAR-10 Batch 3:  Loss:     0.2163 Validation Accuracy: 0.695000\n",
      "Epoch 45, CIFAR-10 Batch 4:  Loss:     0.2295 Validation Accuracy: 0.693800\n",
      "Epoch 45, CIFAR-10 Batch 5:  Loss:     0.2098 Validation Accuracy: 0.700600\n",
      "Epoch 46, CIFAR-10 Batch 1:  Loss:     0.2585 Validation Accuracy: 0.695800\n",
      "Epoch 46, CIFAR-10 Batch 2:  Loss:     0.2458 Validation Accuracy: 0.699800\n",
      "Epoch 46, CIFAR-10 Batch 3:  Loss:     0.2091 Validation Accuracy: 0.696800\n",
      "Epoch 46, CIFAR-10 Batch 4:  Loss:     0.2218 Validation Accuracy: 0.694800\n",
      "Epoch 46, CIFAR-10 Batch 5:  Loss:     0.2065 Validation Accuracy: 0.701000\n",
      "Epoch 47, CIFAR-10 Batch 1:  Loss:     0.2572 Validation Accuracy: 0.694200\n",
      "Epoch 47, CIFAR-10 Batch 2:  Loss:     0.2508 Validation Accuracy: 0.697800\n",
      "Epoch 47, CIFAR-10 Batch 3:  Loss:     0.2215 Validation Accuracy: 0.686400\n",
      "Epoch 47, CIFAR-10 Batch 4:  Loss:     0.2139 Validation Accuracy: 0.692400\n",
      "Epoch 47, CIFAR-10 Batch 5:  Loss:     0.2067 Validation Accuracy: 0.702400\n",
      "Epoch 48, CIFAR-10 Batch 1:  Loss:     0.2473 Validation Accuracy: 0.688600\n",
      "Epoch 48, CIFAR-10 Batch 2:  Loss:     0.2383 Validation Accuracy: 0.701400\n",
      "Epoch 48, CIFAR-10 Batch 3:  Loss:     0.2112 Validation Accuracy: 0.685400\n",
      "Epoch 48, CIFAR-10 Batch 4:  Loss:     0.2208 Validation Accuracy: 0.692400\n",
      "Epoch 48, CIFAR-10 Batch 5:  Loss:     0.2043 Validation Accuracy: 0.698400\n",
      "Epoch 49, CIFAR-10 Batch 1:  Loss:     0.2478 Validation Accuracy: 0.688200\n",
      "Epoch 49, CIFAR-10 Batch 2:  Loss:     0.2487 Validation Accuracy: 0.693000\n",
      "Epoch 49, CIFAR-10 Batch 3:  Loss:     0.2115 Validation Accuracy: 0.685400\n",
      "Epoch 49, CIFAR-10 Batch 4:  Loss:     0.2224 Validation Accuracy: 0.685800\n",
      "Epoch 49, CIFAR-10 Batch 5:  Loss:     0.2096 Validation Accuracy: 0.702200\n",
      "Epoch 50, CIFAR-10 Batch 1:  Loss:     0.2453 Validation Accuracy: 0.692400\n",
      "Epoch 50, CIFAR-10 Batch 2:  Loss:     0.2206 Validation Accuracy: 0.702000\n",
      "Epoch 50, CIFAR-10 Batch 3:  Loss:     0.2076 Validation Accuracy: 0.690000\n",
      "Epoch 50, CIFAR-10 Batch 4:  Loss:     0.2167 Validation Accuracy: 0.689800\n",
      "Epoch 50, CIFAR-10 Batch 5:  Loss:     0.1814 Validation Accuracy: 0.700600\n"
     ]
    }
   ],
   "source": [
    "\"\"\"\n",
    "DON'T MODIFY ANYTHING IN THIS CELL\n",
    "\"\"\"\n",
    "save_model_path = './image_classification'\n",
    "\n",
    "print('Training...')\n",
    "with tf.Session() as sess:\n",
    "    # Initializing the variables\n",
    "    sess.run(tf.global_variables_initializer())\n",
    "    \n",
    "    # Training cycle\n",
    "    for epoch in range(epochs):\n",
    "        # Loop over all batches\n",
    "        n_batches = 5\n",
    "        for batch_i in range(1, n_batches + 1):\n",
    "            for batch_features, batch_labels in helper.load_preprocess_training_batch(batch_i, batch_size):\n",
    "                train_neural_network(sess, optimizer, keep_probability, batch_features, batch_labels)\n",
    "            print('Epoch {:>2}, CIFAR-10 Batch {}:  '.format(epoch + 1, batch_i), end='')\n",
    "            print_stats(sess, batch_features, batch_labels, cost, accuracy)\n",
    "            \n",
    "    # Save Model\n",
    "    saver = tf.train.Saver()\n",
    "    save_path = saver.save(sess, save_model_path)"
   ]
  },
  {
   "cell_type": "markdown",
   "metadata": {},
   "source": [
    "# Checkpoint\n",
    "The model has been saved to disk.\n",
    "## Test Model\n",
    "Test your model against the test dataset.  This will be your final accuracy. You should have an accuracy greater than 50%. If you don't, keep tweaking the model architecture and parameters."
   ]
  },
  {
   "cell_type": "code",
   "execution_count": 39,
   "metadata": {},
   "outputs": [
    {
     "name": "stdout",
     "output_type": "stream",
     "text": [
      "INFO:tensorflow:Restoring parameters from ./image_classification\n",
      "Testing Accuracy: 0.7035213708877563\n",
      "\n"
     ]
    },
    {
     "data": {
      "image/png": "[encoded data removed]",
      "text/plain": [
       "<matplotlib.figure.Figure at 0x10602c52b38>"
      ]
     },
     "metadata": {
      "image/png": {
       "height": 319,
       "width": 355
      }
     },
     "output_type": "display_data"
    }
   ],
   "source": [
    "\"\"\"\n",
    "DON'T MODIFY ANYTHING IN THIS CELL\n",
    "\"\"\"\n",
    "%matplotlib inline\n",
    "%config InlineBackend.figure_format = 'retina'\n",
    "\n",
    "import tensorflow as tf\n",
    "import pickle\n",
    "import helper\n",
    "import random\n",
    "\n",
    "# Set batch size if not already set\n",
    "try:\n",
    "    if batch_size:\n",
    "        pass\n",
    "except NameError:\n",
    "    batch_size = 64\n",
    "\n",
    "save_model_path = './image_classification'\n",
    "n_samples = 4\n",
    "top_n_predictions = 3\n",
    "\n",
    "def test_model():\n",
    "    \"\"\"\n",
    "    Test the saved model against the test dataset\n",
    "    \"\"\"\n",
    "\n",
    "    test_features, test_labels = pickle.load(open('preprocess_test.p', mode='rb'))\n",
    "    loaded_graph = tf.Graph()\n",
    "\n",
    "    with tf.Session(graph=loaded_graph) as sess:\n",
    "        # Load model\n",
    "        loader = tf.train.import_meta_graph(save_model_path + '.meta')\n",
    "        loader.restore(sess, save_model_path)\n",
    "\n",
    "        # Get Tensors from loaded model\n",
    "        loaded_x = loaded_graph.get_tensor_by_name('x:0')\n",
    "        loaded_y = loaded_graph.get_tensor_by_name('y:0')\n",
    "        loaded_keep_prob = loaded_graph.get_tensor_by_name('keep_prob:0')\n",
    "        loaded_logits = loaded_graph.get_tensor_by_name('logits:0')\n",
    "        loaded_acc = loaded_graph.get_tensor_by_name('accuracy:0')\n",
    "        \n",
    "        # Get accuracy in batches for memory limitations\n",
    "        test_batch_acc_total = 0\n",
    "        test_batch_count = 0\n",
    "        \n",
    "        for test_feature_batch, test_label_batch in helper.batch_features_labels(test_features, test_labels, batch_size):\n",
    "            test_batch_acc_total += sess.run(\n",
    "                loaded_acc,\n",
    "                feed_dict={loaded_x: test_feature_batch, loaded_y: test_label_batch, loaded_keep_prob: 1.0})\n",
    "            test_batch_count += 1\n",
    "\n",
    "        print('Testing Accuracy: {}\\n'.format(test_batch_acc_total/test_batch_count))\n",
    "\n",
    "        # Print Random Samples\n",
    "        random_test_features, random_test_labels = tuple(zip(*random.sample(list(zip(test_features, test_labels)), n_samples)))\n",
    "        random_test_predictions = sess.run(\n",
    "            tf.nn.top_k(tf.nn.softmax(loaded_logits), top_n_predictions),\n",
    "            feed_dict={loaded_x: random_test_features, loaded_y: random_test_labels, loaded_keep_prob: 1.0})\n",
    "        helper.display_image_predictions(random_test_features, random_test_labels, random_test_predictions)\n",
    "\n",
    "\n",
    "test_model()"
   ]
  },
  {
   "cell_type": "markdown",
   "metadata": {},
   "source": [
    "## Why 50-80% Accuracy?\n",
    "You might be wondering why you can't get an accuracy any higher. First things first, 50% isn't bad for a simple CNN.  Pure guessing would get you 10% accuracy. However, you might notice people are getting scores [well above 80%](http://rodrigob.github.io/are_we_there_yet/build/classification_datasets_results.html#43494641522d3130).  That's because we haven't taught you all there is to know about neural networks. We still need to cover a few more techniques.\n",
    "## Submitting This Project\n",
    "When submitting this project, make sure to run all the cells before saving the notebook.  Save the notebook file as \"dlnd_image_classification.ipynb\" and save it as a HTML file under \"File\" -> \"Download as\".  Include the \"helper.py\" and \"problem_unittests.py\" files in your submission."
   ]
  }
 ],
 "metadata": {
  "kernelspec": {
   "display_name": "Python 3",
   "language": "python",
   "name": "python3"
  },
  "language_info": {
   "codemirror_mode": {
    "name": "ipython",
    "version": 3
   },
   "file_extension": ".py",
   "mimetype": "text/x-python",
   "name": "python",
   "nbconvert_exporter": "python",
   "pygments_lexer": "ipython3",
   "version": "3.6.2"
  }
 },
 "nbformat": 4,
 "nbformat_minor": 1
}
